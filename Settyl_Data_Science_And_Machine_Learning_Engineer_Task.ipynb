{
  "nbformat": 4,
  "nbformat_minor": 0,
  "metadata": {
    "colab": {
      "provenance": [],
      "authorship_tag": "ABX9TyNroOUA1BzbS2SzrVFoeJym",
      "include_colab_link": true
    },
    "kernelspec": {
      "name": "python3",
      "display_name": "Python 3"
    },
    "language_info": {
      "name": "python"
    }
  },
  "cells": [
    {
      "cell_type": "markdown",
      "metadata": {
        "id": "view-in-github",
        "colab_type": "text"
      },
      "source": [
        "<a href=\"https://colab.research.google.com/github/ARAVINDH-20/data-science/blob/main/Settyl_Data_Science_And_Machine_Learning_Engineer_Task.ipynb\" target=\"_parent\"><img src=\"https://colab.research.google.com/assets/colab-badge.svg\" alt=\"Open In Colab\"/></a>"
      ]
    },
    {
      "cell_type": "code",
      "execution_count": 11,
      "metadata": {
        "colab": {
          "base_uri": "https://localhost:8080/"
        },
        "id": "uMtvg7nroOJS",
        "outputId": "95402034-8833-4560-aef1-4616e181bb6d"
      },
      "outputs": [
        {
          "output_type": "stream",
          "name": "stdout",
          "text": [
            "[{'externalStatus': 'PORT OUT', 'internalStatus': 'Port Out'}, {'externalStatus': 'TERMINAL IN', 'internalStatus': 'Inbound Terminal'}, {'externalStatus': 'PORT IN', 'internalStatus': 'Port In'}, {'externalStatus': 'Vessel departure from first POL (Vessel name : TIAN FU HE)', 'internalStatus': 'Departure'}, {'externalStatus': 'Vessel arrival at final POD (Vessel name : TIAN FU HE)', 'internalStatus': 'Arrival'}, {'externalStatus': 'DEPARTCU', 'internalStatus': 'Departure'}, {'externalStatus': 'Gate in', 'internalStatus': 'Gate In'}, {'externalStatus': 'Load on MAERSK SEMBAWANG / 237E', 'internalStatus': 'Loaded on Vessel'}, {'externalStatus': 'Discharge', 'internalStatus': 'Departure'}, {'externalStatus': 'Gate out', 'internalStatus': 'Gate Out'}, {'externalStatus': 'Gate in', 'internalStatus': 'Gate In'}, {'externalStatus': 'Load on MSC SVEVA / 248E', 'internalStatus': 'Loaded on Vessel'}, {'externalStatus': 'Discharge', 'internalStatus': 'Departure'}, {'externalStatus': 'Gate out', 'internalStatus': 'Gate Out'}, {'externalStatus': 'DEPARTCU', 'internalStatus': 'Departure'}, {'externalStatus': 'Gate in', 'internalStatus': 'Gate In'}, {'externalStatus': 'Load on MAERSK SEMBAWANG / 237E', 'internalStatus': 'Loaded on Vessel'}, {'externalStatus': 'Discharge', 'internalStatus': 'Departure'}, {'externalStatus': 'Gate out', 'internalStatus': 'Gate Out'}, {'externalStatus': 'Gate in', 'internalStatus': 'Gate In'}, {'externalStatus': 'Load on MSC SVEVA / 248E', 'internalStatus': 'Loaded on Vessel'}, {'externalStatus': 'Discharge', 'internalStatus': 'Departure'}, {'externalStatus': 'Gate out', 'internalStatus': 'Gate Out'}, {'externalStatus': 'Gate in', 'internalStatus': 'Gate In'}, {'externalStatus': 'Load (Vessel name : MSC ORION)', 'internalStatus': 'Loaded on Vessel'}, {'externalStatus': 'Discharge (Vessel name : MSC ORION)', 'internalStatus': 'Departure'}, {'externalStatus': 'On rail', 'internalStatus': 'On Rail'}, {'externalStatus': 'Off rail', 'internalStatus': 'Off Rail'}, {'externalStatus': 'Gate out', 'internalStatus': 'Gate Out'}, {'externalStatus': 'Gate out, Empty', 'internalStatus': 'Empty Return'}, {'externalStatus': 'Gate in', 'internalStatus': 'Gate In'}, {'externalStatus': 'Load on MAERSK SEMBAWANG / 237E', 'internalStatus': 'Loaded on Vessel'}, {'externalStatus': 'Discharge', 'internalStatus': 'Departure'}, {'externalStatus': 'On rail', 'internalStatus': 'On Rail'}, {'externalStatus': 'Off rail', 'internalStatus': 'Off Rail'}, {'externalStatus': 'Gate out', 'internalStatus': 'Gate Out'}, {'externalStatus': 'Gate out, Empty', 'internalStatus': 'Empty Return'}, {'externalStatus': 'Gate in', 'internalStatus': 'Gate In'}, {'externalStatus': 'Load on MSC ORION / 227N', 'internalStatus': 'Loaded on Vessel'}, {'externalStatus': 'Discharge', 'internalStatus': 'Departure'}, {'externalStatus': 'On rail', 'internalStatus': 'On Rail'}, {'externalStatus': 'Off rail', 'internalStatus': 'Off Rail'}, {'externalStatus': 'Gate out', 'internalStatus': 'Gate Out'}, {'externalStatus': 'PORT OUT', 'internalStatus': 'Port Out'}, {'externalStatus': 'PORT OUT', 'internalStatus': 'Port Out'}, {'externalStatus': 'PORT IN', 'internalStatus': 'Port In'}, {'externalStatus': 'TOLL PLAZA CROSSED', 'internalStatus': 'In-transit'}, {'externalStatus': 'TOLL PLAZA CROSSED', 'internalStatus': 'In-transit'}, {'externalStatus': 'TOLL PLAZA CROSSED', 'internalStatus': 'In-transit'}, {'externalStatus': 'TOLL PLAZA CROSSED', 'internalStatus': 'In-transit'}, {'externalStatus': 'CFS OUT', 'internalStatus': 'Outbound Terminal'}, {'externalStatus': 'CFS IN', 'internalStatus': 'Inbound Terminal'}, {'externalStatus': 'TOLL PLAZA CROSSED', 'internalStatus': 'In-transit'}, {'externalStatus': 'TOLL PLAZA CROSSED', 'internalStatus': 'In-transit'}, {'externalStatus': 'TOLL PLAZA CROSSED', 'internalStatus': 'In-transit'}, {'externalStatus': 'TOLL PLAZA CROSSED', 'internalStatus': 'In-transit'}, {'externalStatus': 'PORT OUT', 'internalStatus': 'Port Out'}, {'externalStatus': 'PORT IN', 'internalStatus': 'Port In'}, {'externalStatus': 'Empty Container Release to Shipper', 'internalStatus': 'Empty Container Released'}, {'externalStatus': 'Gate In to Outbound Terminal', 'internalStatus': 'Outbound Terminal'}, {'externalStatus': \"Loaded on 'YM PLUM 175W' at Port of Loading YM PLUM 175W\", 'internalStatus': 'Loaded on Vessel'}, {'externalStatus': \"'YM PLUM 175W' Departure from Port of Loading YM PLUM 175W\", 'internalStatus': 'Departure'}, {'externalStatus': \"'YM PLUM 175W' Arrival at Port of Discharging YM PLUM 175W\", 'internalStatus': 'Arrival'}, {'externalStatus': \"Unloaded from 'YM PLUM 175W' at Port of Discharging YM PLUM 175W\", 'internalStatus': 'Unloaded on Vessel'}, {'externalStatus': 'Empty Container Returned from Customer', 'internalStatus': 'Empty Return'}, {'externalStatus': 'Empty Container Release to Shipper', 'internalStatus': 'Empty Container Released'}, {'externalStatus': 'Empty Container Door Arrival', 'internalStatus': 'Arrival'}, {'externalStatus': 'Gate In to Outbound CY', 'internalStatus': 'Outbound Terminal'}, {'externalStatus': 'Outbound Rail Loading', 'internalStatus': 'Outbound Terminal'}, {'externalStatus': 'Outbound Rail Departure', 'internalStatus': 'Outbound Terminal'}, {'externalStatus': 'Outbound Rail Arrival', 'internalStatus': 'Outbound Terminal'}, {'externalStatus': 'Outbound Rail Unloading', 'internalStatus': 'Outbound Terminal'}, {'externalStatus': 'Gate Out from Outbound CY', 'internalStatus': 'Outbound Terminal'}, {'externalStatus': 'Gate In to Outbound Terminal', 'internalStatus': 'Outbound Terminal'}, {'externalStatus': \"Loaded on 'TUCAPEL 008E' at Port of Loading TUCAPEL 008E\", 'internalStatus': 'Loaded on Vessel'}, {'externalStatus': \"'TUCAPEL 008E' Departure from Port of Loading TUCAPEL 008E\", 'internalStatus': 'Departure'}, {'externalStatus': \"'TUCAPEL 008E' Arrival at Port of Discharging TUCAPEL 008E\", 'internalStatus': 'Arrival'}, {'externalStatus': \"Unloaded from 'TUCAPEL 008E' at Port of Discharging TUCAPEL 008E\", 'internalStatus': 'Unloaded on Vessel'}, {'externalStatus': 'Empty Container Returned from Customer', 'internalStatus': 'Empty Return'}, {'externalStatus': 'Gate out, Empty', 'internalStatus': 'Empty Return'}, {'externalStatus': 'Gate in', 'internalStatus': 'Gate In'}, {'externalStatus': 'Gate out', 'internalStatus': 'Gate Out'}, {'externalStatus': 'Gate in', 'internalStatus': 'Gate In'}, {'externalStatus': 'Load on CAP SAN ARTEMISSIO / 240S', 'internalStatus': 'Loaded on Vessel'}, {'externalStatus': 'Discharge', 'internalStatus': 'Departure'}, {'externalStatus': 'Gate out', 'internalStatus': 'Gate Out'}, {'externalStatus': 'Gate out, Empty', 'internalStatus': 'Empty Return'}, {'externalStatus': 'Gate in', 'internalStatus': 'Gate In'}, {'externalStatus': 'Gate out', 'internalStatus': 'Gate Out'}, {'externalStatus': 'Gate in', 'internalStatus': 'Gate In'}, {'externalStatus': 'Load on CAP SAN ARTEMISSIO / 240S', 'internalStatus': 'Loaded on Vessel'}, {'externalStatus': 'Discharge', 'internalStatus': 'Departure'}, {'externalStatus': 'Gate out', 'internalStatus': 'Gate Out'}, {'externalStatus': 'TERMINAL IN', 'internalStatus': 'Inbound Terminal'}, {'externalStatus': 'PORT IN', 'internalStatus': 'Port In'}, {'externalStatus': 'CFS OUT', 'internalStatus': 'Outbound Terminal'}, {'externalStatus': 'CFS IN', 'internalStatus': 'Inbound Terminal'}, {'externalStatus': 'CFS OUT', 'internalStatus': 'Outbound Terminal'}, {'externalStatus': 'CFS IN', 'internalStatus': 'Inbound Terminal'}, {'externalStatus': 'PORT OUT', 'internalStatus': 'Port Out'}, {'externalStatus': 'TERMINAL OUT', 'internalStatus': 'Outbound Terminal'}, {'externalStatus': 'PORT IN', 'internalStatus': 'Port In'}, {'externalStatus': 'Gate out, Empty', 'internalStatus': 'Empty Return'}, {'externalStatus': 'Gate in', 'internalStatus': 'Gate In'}, {'externalStatus': 'Load on EDITH MAERSK / 241E', 'internalStatus': 'Loaded on Vessel'}, {'externalStatus': 'Discharge', 'internalStatus': 'Departure'}, {'externalStatus': 'Load on LEONIDIO / 248W', 'internalStatus': 'Loaded on Vessel'}, {'externalStatus': 'Discharge', 'internalStatus': 'Departure'}, {'externalStatus': 'Gate out', 'internalStatus': 'Gate Out'}, {'externalStatus': 'Gate out, Empty', 'internalStatus': 'Empty Return'}, {'externalStatus': 'Gate in', 'internalStatus': 'Gate In'}, {'externalStatus': 'Load on NORFOLK / 226E', 'internalStatus': 'Loaded on Vessel'}, {'externalStatus': 'Discharge', 'internalStatus': 'Departure'}, {'externalStatus': 'Gate out', 'internalStatus': 'Gate Out'}, {'externalStatus': 'Gate in', 'internalStatus': 'Gate In'}, {'externalStatus': 'Gate out', 'internalStatus': 'Gate Out'}, {'externalStatus': 'Gate out, Empty', 'internalStatus': 'Empty Return'}, {'externalStatus': 'Gate in', 'internalStatus': 'Gate In'}, {'externalStatus': 'Load on NORFOLK / 226E', 'internalStatus': 'Loaded on Vessel'}, {'externalStatus': 'Discharge', 'internalStatus': 'Departure'}, {'externalStatus': 'Gate out', 'internalStatus': 'Gate Out'}, {'externalStatus': 'Gate in', 'internalStatus': 'Gate In'}, {'externalStatus': 'Gate out', 'internalStatus': 'Gate Out'}, {'externalStatus': 'Gate out, Empty', 'internalStatus': 'Empty Return'}, {'externalStatus': 'Gate in', 'internalStatus': 'Gate In'}, {'externalStatus': 'Load on MUMBAI MAERSK / 226W', 'internalStatus': 'Loaded on Vessel'}, {'externalStatus': 'Discharge', 'internalStatus': 'Departure'}, {'externalStatus': 'Load on MAERSK EVORA / 228N', 'internalStatus': 'Loaded on Vessel'}, {'externalStatus': 'Discharge', 'internalStatus': 'Departure'}, {'externalStatus': 'On rail', 'internalStatus': 'On Rail'}, {'externalStatus': 'Off rail', 'internalStatus': 'Off Rail'}, {'externalStatus': 'Gate out', 'internalStatus': 'Gate Out'}, {'externalStatus': 'Gate out, Empty', 'internalStatus': 'Empty Return'}, {'externalStatus': 'Gate in', 'internalStatus': 'Gate In'}, {'externalStatus': 'Load on MUMBAI MAERSK / 226W', 'internalStatus': 'Loaded on Vessel'}, {'externalStatus': 'Discharge', 'internalStatus': 'Departure'}, {'externalStatus': 'Load on MAERSK EVORA / 228N', 'internalStatus': 'Loaded on Vessel'}, {'externalStatus': 'Discharge', 'internalStatus': 'Departure'}, {'externalStatus': 'On rail', 'internalStatus': 'On Rail'}, {'externalStatus': 'Off rail', 'internalStatus': 'Off Rail'}, {'externalStatus': 'Gate out', 'internalStatus': 'Gate Out'}, {'externalStatus': 'PORT OUT', 'internalStatus': 'Port Out'}, {'externalStatus': 'PORT IN', 'internalStatus': 'Port In'}, {'externalStatus': 'Gate out, Empty', 'internalStatus': 'Empty Return'}, {'externalStatus': 'Gate in', 'internalStatus': 'Gate In'}, {'externalStatus': 'Load on CMA CGM DON PASCUALE / 242N', 'internalStatus': 'Loaded on Vessel'}, {'externalStatus': 'Discharge', 'internalStatus': 'Departure'}, {'externalStatus': 'Load on PL GERMANY / 246N', 'internalStatus': 'Loaded on Vessel'}, {'externalStatus': 'Discharge', 'internalStatus': 'Departure'}, {'externalStatus': 'Gate out', 'internalStatus': 'Gate Out'}, {'externalStatus': 'Gate in', 'internalStatus': 'Gate In'}, {'externalStatus': 'Load on CAP SAN SOUNIO / 239W', 'internalStatus': 'Loaded on Vessel'}, {'externalStatus': 'Discharge', 'internalStatus': 'Departure'}, {'externalStatus': 'Load on CIELO DI RABAT / 243W', 'internalStatus': 'Loaded on Vessel'}, {'externalStatus': 'Discharge', 'internalStatus': 'Departure'}, {'externalStatus': 'Gate out', 'internalStatus': 'Gate Out'}, {'externalStatus': 'Gate in', 'internalStatus': 'Gate In'}, {'externalStatus': 'Load on CAP SAN SOUNIO / 239W', 'internalStatus': 'Loaded on Vessel'}, {'externalStatus': 'Discharge', 'internalStatus': 'Departure'}, {'externalStatus': 'Load on CIELO DI RABAT / 243W', 'internalStatus': 'Loaded on Vessel'}, {'externalStatus': 'Discharge', 'internalStatus': 'Departure'}, {'externalStatus': 'Gate out', 'internalStatus': 'Gate Out'}, {'externalStatus': 'Gate out, Empty', 'internalStatus': 'Empty Return'}, {'externalStatus': 'Gate in', 'internalStatus': 'Gate In'}, {'externalStatus': 'Load on GERNER MAERSK / 226N', 'internalStatus': 'Loaded on Vessel'}, {'externalStatus': 'Discharge', 'internalStatus': 'Departure'}, {'externalStatus': 'On rail', 'internalStatus': 'On Rail'}, {'externalStatus': 'Off rail', 'internalStatus': 'Off Rail'}, {'externalStatus': 'Gate out', 'internalStatus': 'Gate Out'}, {'externalStatus': 'Gate out, Empty', 'internalStatus': 'Empty Return'}, {'externalStatus': 'Gate in', 'internalStatus': 'Gate In'}, {'externalStatus': 'Load on GERNER MAERSK / 226N', 'internalStatus': 'Loaded on Vessel'}, {'externalStatus': 'Discharge', 'internalStatus': 'Departure'}, {'externalStatus': 'On rail', 'internalStatus': 'On Rail'}, {'externalStatus': 'Off rail', 'internalStatus': 'Off Rail'}, {'externalStatus': 'Gate out', 'internalStatus': 'Gate Out'}, {'externalStatus': 'Gate out, Empty', 'internalStatus': 'Empty Return'}, {'externalStatus': 'Gate in', 'internalStatus': 'Gate In'}, {'externalStatus': 'Load on MAERSK STEPNICA / 242S', 'internalStatus': 'Loaded on Vessel'}, {'externalStatus': 'Discharge', 'internalStatus': 'Departure'}, {'externalStatus': 'Gate out', 'internalStatus': 'Gate Out'}, {'externalStatus': 'Gate out, Empty', 'internalStatus': 'Empty Return'}, {'externalStatus': 'Gate in', 'internalStatus': 'Gate In'}, {'externalStatus': 'Load on MAERSK STEPNICA / 242S', 'internalStatus': 'Loaded on Vessel'}, {'externalStatus': 'Discharge', 'internalStatus': 'Departure'}, {'externalStatus': 'Gate out', 'internalStatus': 'Gate Out'}, {'externalStatus': 'Gate out, Empty', 'internalStatus': 'Empty Return'}, {'externalStatus': 'Gate in', 'internalStatus': 'Gate In'}, {'externalStatus': 'Gate out', 'internalStatus': 'Gate Out'}, {'externalStatus': 'Gate in', 'internalStatus': 'Gate In'}, {'externalStatus': 'Load on MAERSK HORSBURGH / 242E', 'internalStatus': 'Loaded on Vessel'}, {'externalStatus': 'Discharge', 'internalStatus': 'Departure'}, {'externalStatus': 'Load on SKAGEN MAERSK / 248S', 'internalStatus': 'Loaded on Vessel'}, {'externalStatus': 'Discharge', 'internalStatus': 'Departure'}, {'externalStatus': 'Gate out', 'internalStatus': 'Gate Out'}, {'externalStatus': 'Gate out, Empty', 'internalStatus': 'Empty Return'}, {'externalStatus': 'Gate in', 'internalStatus': 'Gate In'}, {'externalStatus': 'Gate out', 'internalStatus': 'Gate Out'}, {'externalStatus': 'Gate in', 'internalStatus': 'Gate In'}, {'externalStatus': 'Load on MAERSK HORSBURGH / 242E', 'internalStatus': 'Loaded on Vessel'}, {'externalStatus': 'Discharge', 'internalStatus': 'Departure'}, {'externalStatus': 'Load on SKAGEN MAERSK / 248S', 'internalStatus': 'Loaded on Vessel'}, {'externalStatus': 'Discharge', 'internalStatus': 'Departure'}, {'externalStatus': 'Gate out', 'internalStatus': 'Gate Out'}, {'externalStatus': 'PORT OUT', 'internalStatus': 'Port Out'}, {'externalStatus': 'PORT IN', 'internalStatus': 'Port In'}, {'externalStatus': 'GATE OUT', 'internalStatus': 'Gate Out'}, {'externalStatus': 'CFS OUT', 'internalStatus': 'Outbound Terminal'}, {'externalStatus': 'CFS IN', 'internalStatus': 'Inbound Terminal'}, {'externalStatus': 'PORT OUT', 'internalStatus': 'Port Out'}, {'externalStatus': 'PORT IN', 'internalStatus': 'Port In'}, {'externalStatus': 'Gate out, Empty', 'internalStatus': 'Empty Return'}, {'externalStatus': 'Gate in', 'internalStatus': 'Gate In'}, {'externalStatus': 'Load on MSC LIVORNO / 224N', 'internalStatus': 'Loaded on Vessel'}, {'externalStatus': 'Discharge', 'internalStatus': 'Departure'}, {'externalStatus': 'Gate out', 'internalStatus': 'Gate Out'}, {'externalStatus': 'Gate in', 'internalStatus': 'Gate In'}, {'externalStatus': 'Gate out', 'internalStatus': 'Gate Out'}, {'externalStatus': 'Gate in', 'internalStatus': 'Gate In'}, {'externalStatus': 'On rail', 'internalStatus': 'On Rail'}, {'externalStatus': 'Off rail', 'internalStatus': 'Off Rail'}, {'externalStatus': 'Gate out', 'internalStatus': 'Gate Out'}, {'externalStatus': 'Gate out, Empty', 'internalStatus': 'Empty Return'}, {'externalStatus': 'Gate in', 'internalStatus': 'Gate In'}, {'externalStatus': 'Gate out', 'internalStatus': 'Gate Out'}, {'externalStatus': 'Gate in', 'internalStatus': 'Gate In'}, {'externalStatus': 'Load on SAN CLEMENTE / 244E', 'internalStatus': 'Loaded on Vessel'}, {'externalStatus': 'Discharge', 'internalStatus': 'Departure'}, {'externalStatus': 'Load on MAERSK GUATEMALA / 247E', 'internalStatus': 'Loaded on Vessel'}, {'externalStatus': 'Discharge', 'internalStatus': 'Departure'}, {'externalStatus': 'Gate out', 'internalStatus': 'Gate Out'}, {'externalStatus': 'Gate out, Empty', 'internalStatus': 'Empty Return'}, {'externalStatus': 'Gate in', 'internalStatus': 'Gate In'}, {'externalStatus': 'Gate out', 'internalStatus': 'Gate Out'}, {'externalStatus': 'Gate in', 'internalStatus': 'Gate In'}, {'externalStatus': 'Load on SAN CLEMENTE / 244E', 'internalStatus': 'Loaded on Vessel'}, {'externalStatus': 'Discharge', 'internalStatus': 'Departure'}, {'externalStatus': 'Load on MAERSK GUATEMALA / 247E', 'internalStatus': 'Loaded on Vessel'}, {'externalStatus': 'Discharge', 'internalStatus': 'Departure'}, {'externalStatus': 'Gate out', 'internalStatus': 'Gate Out'}, {'externalStatus': 'PORT OUT', 'internalStatus': 'Port Out'}, {'externalStatus': 'PORT IN', 'internalStatus': 'Port In'}, {'externalStatus': 'TOLL PLAZA CROSSED', 'internalStatus': 'In-transit'}, {'externalStatus': 'PORT OUT', 'internalStatus': 'Port Out'}, {'externalStatus': 'PORT IN', 'internalStatus': 'Port In'}, {'externalStatus': 'Gate in', 'internalStatus': 'Gate In'}, {'externalStatus': 'Load on NYK FUSHIMI / 115N', 'internalStatus': 'Loaded on Vessel'}, {'externalStatus': 'Discharge', 'internalStatus': 'Departure'}, {'externalStatus': 'Gate out', 'internalStatus': 'Gate Out'}, {'externalStatus': 'Gate in', 'internalStatus': 'Gate In'}, {'externalStatus': 'Gate out', 'internalStatus': 'Gate Out'}, {'externalStatus': 'Gate in', 'internalStatus': 'Gate In'}, {'externalStatus': 'Gate out', 'internalStatus': 'Gate Out'}, {'externalStatus': 'Gate in', 'internalStatus': 'Gate In'}, {'externalStatus': 'Load on MILAN MAERSK / 242E', 'internalStatus': 'Loaded on Vessel'}, {'externalStatus': 'Discharge', 'internalStatus': 'Departure'}, {'externalStatus': 'Gate out', 'internalStatus': 'Gate Out'}, {'externalStatus': 'Gate in', 'internalStatus': 'Gate In'}, {'externalStatus': 'Gate out', 'internalStatus': 'Gate Out'}, {'externalStatus': 'Gate in', 'internalStatus': 'Gate In'}, {'externalStatus': 'Load on MILAN MAERSK / 242E', 'internalStatus': 'Loaded on Vessel'}, {'externalStatus': 'Discharge', 'internalStatus': 'Departure'}, {'externalStatus': 'Gate out', 'internalStatus': 'Gate Out'}, {'externalStatus': 'DEPARTCU', 'internalStatus': 'Departure'}, {'externalStatus': 'Gate in', 'internalStatus': 'Gate In'}, {'externalStatus': 'Load on SEALAND ILLINOIS / 226E', 'internalStatus': 'Loaded on Vessel'}, {'externalStatus': 'Discharge', 'internalStatus': 'Departure'}, {'externalStatus': 'Gate out', 'internalStatus': 'Gate Out'}, {'externalStatus': 'Gate in', 'internalStatus': 'Gate In'}, {'externalStatus': 'Load on VOLGA MAERSK / 241N', 'internalStatus': 'Loaded on Vessel'}, {'externalStatus': 'Discharge', 'internalStatus': 'Departure'}, {'externalStatus': 'Gate out', 'internalStatus': 'Gate Out'}, {'externalStatus': 'DEPARTCU', 'internalStatus': 'Departure'}, {'externalStatus': 'Gate in', 'internalStatus': 'Gate In'}, {'externalStatus': 'Load on SEALAND ILLINOIS / 226E', 'internalStatus': 'Loaded on Vessel'}, {'externalStatus': 'Discharge', 'internalStatus': 'Departure'}, {'externalStatus': 'Gate out', 'internalStatus': 'Gate Out'}, {'externalStatus': 'Gate in', 'internalStatus': 'Gate In'}, {'externalStatus': 'Load on VOLGA MAERSK / 241N', 'internalStatus': 'Loaded on Vessel'}, {'externalStatus': 'Discharge', 'internalStatus': 'Departure'}, {'externalStatus': 'Gate out', 'internalStatus': 'Gate Out'}, {'externalStatus': 'DEPARTCU', 'internalStatus': 'Departure'}, {'externalStatus': 'Gate in', 'internalStatus': 'Gate In'}, {'externalStatus': 'On rail', 'internalStatus': 'On Rail'}, {'externalStatus': 'Off rail', 'internalStatus': 'Off Rail'}, {'externalStatus': 'Gate out', 'internalStatus': 'Gate Out'}, {'externalStatus': 'Gate in', 'internalStatus': 'Gate In'}, {'externalStatus': 'Load on MAERSK SEMBAWANG / 237E', 'internalStatus': 'Loaded on Vessel'}, {'externalStatus': 'Discharge', 'internalStatus': 'Departure'}, {'externalStatus': 'Load on MAERSK MONTANA / 246W', 'internalStatus': 'Loaded on Vessel'}, {'externalStatus': 'Load on BG IRELAND / 247W', 'internalStatus': 'Loaded on Vessel'}, {'externalStatus': 'Discharge', 'internalStatus': 'Departure'}, {'externalStatus': 'Discharge', 'internalStatus': 'Departure'}, {'externalStatus': 'Gate out', 'internalStatus': 'Gate Out'}, {'externalStatus': 'DEPARTCU', 'internalStatus': 'Departure'}, {'externalStatus': 'Gate in', 'internalStatus': 'Gate In'}, {'externalStatus': 'On rail', 'internalStatus': 'On Rail'}, {'externalStatus': 'Off rail', 'internalStatus': 'Off Rail'}, {'externalStatus': 'Gate out', 'internalStatus': 'Gate Out'}, {'externalStatus': 'Gate in', 'internalStatus': 'Gate In'}, {'externalStatus': 'Load on MAERSK SEMBAWANG / 237E', 'internalStatus': 'Loaded on Vessel'}, {'externalStatus': 'Discharge', 'internalStatus': 'Departure'}, {'externalStatus': 'Load on MAERSK MONTANA / 246W', 'internalStatus': 'Loaded on Vessel'}, {'externalStatus': 'Load on BG IRELAND / 247W', 'internalStatus': 'Loaded on Vessel'}, {'externalStatus': 'Discharge', 'internalStatus': 'Departure'}, {'externalStatus': 'Discharge', 'internalStatus': 'Departure'}, {'externalStatus': 'Gate out', 'internalStatus': 'Gate Out'}, {'externalStatus': 'GATE OUT', 'internalStatus': 'Gate Out'}, {'externalStatus': 'CFS IN', 'internalStatus': 'Inbound Terminal'}, {'externalStatus': 'PORT OUT', 'internalStatus': 'Port Out'}, {'externalStatus': 'Gate out, Empty', 'internalStatus': 'Empty Return'}, {'externalStatus': 'Gate in', 'internalStatus': 'Gate In'}, {'externalStatus': 'Load on NORTHERN JASPER / 027E', 'internalStatus': 'Loaded on Vessel'}, {'externalStatus': 'Discharge', 'internalStatus': 'Departure'}, {'externalStatus': 'On rail', 'internalStatus': 'On Rail'}, {'externalStatus': 'Off rail', 'internalStatus': 'Off Rail'}, {'externalStatus': 'Gate out', 'internalStatus': 'Gate Out'}, {'externalStatus': 'Loaded USJAX', 'internalStatus': 'Loaded on Vessel'}, {'externalStatus': 'Unloaded PRSJU', 'internalStatus': 'Unloaded on Vessel'}, {'externalStatus': 'Loaded USJAX', 'internalStatus': 'Loaded on Vessel'}, {'externalStatus': 'Unloaded PRSJU', 'internalStatus': 'Unloaded on Vessel'}, {'externalStatus': 'Actual time of departure', 'internalStatus': 'Departure'}, {'externalStatus': 'Expected time of departure', 'internalStatus': 'Departure'}, {'externalStatus': 'Actual time of departure', 'internalStatus': 'Departure'}, {'externalStatus': 'Expected time of departure', 'internalStatus': 'Departure'}, {'externalStatus': 'Actual time of departure', 'internalStatus': 'Departure'}, {'externalStatus': 'Actual time of departure', 'internalStatus': 'Departure'}, {'externalStatus': 'Actual time of departure', 'internalStatus': 'Departure'}, {'externalStatus': 'Expected time of departure', 'internalStatus': 'Departure'}, {'externalStatus': 'Actual time of departure', 'internalStatus': 'Departure'}, {'externalStatus': 'Expected time of departure', 'internalStatus': 'Departure'}, {'externalStatus': 'Load (Vessel name : COSCO INDONESIA)', 'internalStatus': 'Loaded on Vessel'}, {'externalStatus': 'Discharge (Vessel name : COSCO INDONESIA)', 'internalStatus': 'Departure'}, {'externalStatus': 'Gate out', 'internalStatus': 'Gate Out'}, {'externalStatus': 'Empty to shipper', 'internalStatus': 'Empty Container Released'}, {'externalStatus': 'Vessel Departure', 'internalStatus': 'Departure'}, {'externalStatus': 'Vessel Arrival', 'internalStatus': 'Arrival'}, {'externalStatus': 'Empty to shipper', 'internalStatus': 'Empty Container Released'}, {'externalStatus': 'Loaded on board', 'internalStatus': 'Loaded on Vessel'}, {'externalStatus': 'Vessel Arrival', 'internalStatus': 'Arrival'}, {'externalStatus': 'Empty to shipper', 'internalStatus': 'Empty Container Released'}, {'externalStatus': 'Full Load on rail for export', 'internalStatus': 'Loaded on Vessel'}, {'externalStatus': 'Train arrival for export', 'internalStatus': 'Arrival'}, {'externalStatus': 'Loaded on board', 'internalStatus': 'Loaded on Vessel'}, {'externalStatus': 'Vessel Departure', 'internalStatus': 'Departure'}, {'externalStatus': 'Vessel Arrival', 'internalStatus': 'Arrival'}, {'externalStatus': 'Empty to shipper', 'internalStatus': 'Empty Container Released'}, {'externalStatus': 'Full Load on rail for export', 'internalStatus': 'Loaded on Vessel'}, {'externalStatus': 'Train arrival for export', 'internalStatus': 'Arrival'}, {'externalStatus': 'Loaded on board', 'internalStatus': 'Loaded on Vessel'}, {'externalStatus': 'Vessel Departure', 'internalStatus': 'Departure'}, {'externalStatus': 'Vessel Arrival', 'internalStatus': 'Arrival'}, {'externalStatus': 'Import Unloaded from Rail', 'internalStatus': 'Unloaded on Vessel'}, {'externalStatus': 'Import Loaded on Rail', 'internalStatus': 'Loaded on Vessel'}, {'externalStatus': 'Full Transshipment Loaded', 'internalStatus': 'Loaded on Vessel'}, {'externalStatus': 'Full Transshipment Loaded', 'internalStatus': 'Loaded on Vessel'}, {'externalStatus': 'Export Loaded on Vessel', 'internalStatus': 'Loaded on Vessel'}, {'externalStatus': 'Empty to Shipper', 'internalStatus': 'Empty Container Released'}, {'externalStatus': 'Import Unloaded from Rail', 'internalStatus': 'Unloaded on Vessel'}, {'externalStatus': 'Import Loaded on Rail', 'internalStatus': 'Loaded on Vessel'}, {'externalStatus': 'Full Transshipment Loaded', 'internalStatus': 'Loaded on Vessel'}, {'externalStatus': 'Full Transshipment Loaded', 'internalStatus': 'Loaded on Vessel'}, {'externalStatus': 'Export Loaded on Vessel', 'internalStatus': 'Loaded on Vessel'}, {'externalStatus': 'Empty to Shipper', 'internalStatus': 'Empty Container Released'}, {'externalStatus': 'Export Unloaded from Rail', 'internalStatus': 'Unloaded on Vessel'}, {'externalStatus': 'Export Rail Departure', 'internalStatus': 'Departure'}, {'externalStatus': 'Export Loaded on Rail', 'internalStatus': 'Loaded on Vessel'}, {'externalStatus': 'Empty to Shipper', 'internalStatus': 'Empty Container Released'}, {'externalStatus': 'Export Unloaded from Rail', 'internalStatus': 'Unloaded on Vessel'}, {'externalStatus': 'Export Rail Departure', 'internalStatus': 'Departure'}, {'externalStatus': 'Export Loaded on Rail', 'internalStatus': 'Loaded on Vessel'}, {'externalStatus': 'Empty to Shipper', 'internalStatus': 'Empty Container Released'}, {'externalStatus': 'PORT OUT', 'internalStatus': 'Port Out'}, {'externalStatus': 'PORT IN', 'internalStatus': 'Port In'}, {'externalStatus': 'CFS OUT', 'internalStatus': 'Outbound Terminal'}, {'externalStatus': 'CFS IN', 'internalStatus': 'Inbound Terminal'}, {'externalStatus': 'PORT OUT', 'internalStatus': 'Port Out'}, {'externalStatus': 'PORT IN', 'internalStatus': 'Port In'}, {'externalStatus': 'Full Transshipment Loaded', 'internalStatus': 'Loaded on Vessel'}, {'externalStatus': 'Export Loaded on Vessel', 'internalStatus': 'Loaded on Vessel'}, {'externalStatus': 'Empty to Shipper', 'internalStatus': 'Empty Container Released'}, {'externalStatus': 'Loaded at T/S POL', 'internalStatus': 'Loaded on Vessel'}, {'externalStatus': 'Loaded at First POL', 'internalStatus': 'Loaded on Vessel'}, {'externalStatus': 'Loaded at T/S POL', 'internalStatus': 'Loaded on Vessel'}, {'externalStatus': 'Loaded at First POL', 'internalStatus': 'Loaded on Vessel'}, {'externalStatus': 'Loaded at T/S POL', 'internalStatus': 'Loaded on Vessel'}, {'externalStatus': 'Loaded at First POL', 'internalStatus': 'Loaded on Vessel'}, {'externalStatus': 'Loaded at T/S POL', 'internalStatus': 'Loaded on Vessel'}, {'externalStatus': 'Loaded at First POL', 'internalStatus': 'Loaded on Vessel'}, {'externalStatus': 'Loaded at T/S POL', 'internalStatus': 'Loaded on Vessel'}, {'externalStatus': 'Loaded at First POL', 'internalStatus': 'Loaded on Vessel'}, {'externalStatus': 'Loaded at T/S POL', 'internalStatus': 'Loaded on Vessel'}, {'externalStatus': 'Loaded at First POL', 'internalStatus': 'Loaded on Vessel'}, {'externalStatus': 'Loaded at T/S POL', 'internalStatus': 'Loaded on Vessel'}, {'externalStatus': 'Loaded at First POL', 'internalStatus': 'Loaded on Vessel'}, {'externalStatus': 'Loaded at T/S POL', 'internalStatus': 'Loaded on Vessel'}, {'externalStatus': 'Loaded at First POL', 'internalStatus': 'Loaded on Vessel'}, {'externalStatus': 'PORT OUT', 'internalStatus': 'Port Out'}, {'externalStatus': 'PORT IN', 'internalStatus': 'Port In'}, {'externalStatus': 'TOLL PLAZA CROSSED', 'internalStatus': 'In-transit'}, {'externalStatus': 'CFS OUT', 'internalStatus': 'Outbound Terminal'}, {'externalStatus': 'CFS IN', 'internalStatus': 'Inbound Terminal'}, {'externalStatus': 'PORT OUT', 'internalStatus': 'Port Out'}, {'externalStatus': 'PORT IN', 'internalStatus': 'Port In'}, {'externalStatus': 'Loaded at T/S POL', 'internalStatus': 'Loaded on Vessel'}, {'externalStatus': 'Loaded at First POL', 'internalStatus': 'Loaded on Vessel'}, {'externalStatus': 'Loaded at T/S POL', 'internalStatus': 'Loaded on Vessel'}, {'externalStatus': 'Loaded at First POL', 'internalStatus': 'Loaded on Vessel'}, {'externalStatus': 'Loaded at T/S POL', 'internalStatus': 'Loaded on Vessel'}, {'externalStatus': 'Loaded at First POL', 'internalStatus': 'Loaded on Vessel'}, {'externalStatus': 'Loaded at T/S POL', 'internalStatus': 'Loaded on Vessel'}, {'externalStatus': 'Loaded at First POL', 'internalStatus': 'Loaded on Vessel'}, {'externalStatus': 'Loaded at T/S POL', 'internalStatus': 'Loaded on Vessel'}, {'externalStatus': 'Loaded at First POL', 'internalStatus': 'Loaded on Vessel'}, {'externalStatus': 'Loaded at T/S POL', 'internalStatus': 'Loaded on Vessel'}, {'externalStatus': 'Loaded at First POL', 'internalStatus': 'Loaded on Vessel'}, {'externalStatus': 'Gate in', 'internalStatus': 'Gate In'}, {'externalStatus': 'Load (Vessel name : MAERSK BULAN)', 'internalStatus': 'Loaded on Vessel'}, {'externalStatus': 'Discharge (Vessel name : MAERSK BULAN)', 'internalStatus': 'Departure'}, {'externalStatus': 'Load (Vessel name : MAERSK NIJMEGEN)', 'internalStatus': 'Loaded on Vessel'}, {'externalStatus': 'Discharge (Vessel name : MAERSK NIJMEGEN)', 'internalStatus': 'Departure'}, {'externalStatus': 'Load (Vessel name : ELBWATER)', 'internalStatus': 'Loaded on Vessel'}, {'externalStatus': 'Discharge (Vessel name : ELBWATER)', 'internalStatus': 'Departure'}, {'externalStatus': 'Gate out', 'internalStatus': 'Gate Out'}, {'externalStatus': 'Actual time of departure', 'internalStatus': 'Departure'}, {'externalStatus': 'Expected time of departure', 'internalStatus': 'Departure'}, {'externalStatus': 'Actual time of departure', 'internalStatus': 'Departure'}, {'externalStatus': 'Expected time of departure', 'internalStatus': 'Departure'}, {'externalStatus': 'Actual time of departure', 'internalStatus': 'Departure'}, {'externalStatus': 'Expected time of departure', 'internalStatus': 'Departure'}, {'externalStatus': 'Actual time of departure', 'internalStatus': 'Departure'}, {'externalStatus': 'Expected time of departure', 'internalStatus': 'Departure'}, {'externalStatus': 'Actual time of departure', 'internalStatus': 'Departure'}, {'externalStatus': 'Expected time of departure', 'internalStatus': 'Departure'}, {'externalStatus': 'Actual time of departure', 'internalStatus': 'Departure'}, {'externalStatus': 'Expected time of departure', 'internalStatus': 'Departure'}, {'externalStatus': 'Actual time of departure', 'internalStatus': 'Departure'}, {'externalStatus': 'Expected time of departure', 'internalStatus': 'Departure'}, {'externalStatus': 'Actual time of departure', 'internalStatus': 'Departure'}, {'externalStatus': 'Expected time of departure', 'internalStatus': 'Departure'}, {'externalStatus': 'Actual time of departure', 'internalStatus': 'Departure'}, {'externalStatus': 'Expected time of departure', 'internalStatus': 'Departure'}, {'externalStatus': 'Actual time of departure', 'internalStatus': 'Departure'}, {'externalStatus': 'Expected time of departure', 'internalStatus': 'Departure'}, {'externalStatus': 'Actual time of departure', 'internalStatus': 'Departure'}, {'externalStatus': 'Expected time of departure', 'internalStatus': 'Departure'}, {'externalStatus': 'Actual time of departure', 'internalStatus': 'Departure'}, {'externalStatus': 'Expected time of departure', 'internalStatus': 'Departure'}, {'externalStatus': 'Empty to shipper', 'internalStatus': 'Empty Container Released'}, {'externalStatus': 'Loaded on board (Vessel name : VAYENGA MAERSK)', 'internalStatus': 'Loaded on Vessel'}, {'externalStatus': 'Vessel Departure (Vessel name : VAYENGA MAERSK)', 'internalStatus': 'Departure'}, {'externalStatus': 'Vessel Arrival (Vessel name : VAYENGA MAERSK)', 'internalStatus': 'Arrival'}, {'externalStatus': 'Empty to shipper', 'internalStatus': 'Empty Container Released'}, {'externalStatus': 'Loaded on board (Vessel name : VAYENGA MAERSK)', 'internalStatus': 'Loaded on Vessel'}, {'externalStatus': 'Vessel Departure (Vessel name : VAYENGA MAERSK)', 'internalStatus': 'Departure'}, {'externalStatus': 'Vessel Arrival (Vessel name : VAYENGA MAERSK)', 'internalStatus': 'Arrival'}, {'externalStatus': 'Empty to shipper', 'internalStatus': 'Empty Container Released'}, {'externalStatus': 'Loaded on board (Vessel name : VAYENGA MAERSK)', 'internalStatus': 'Loaded on Vessel'}, {'externalStatus': 'Vessel Departure (Vessel name : VAYENGA MAERSK)', 'internalStatus': 'Departure'}, {'externalStatus': 'Vessel Arrival (Vessel name : VAYENGA MAERSK)', 'internalStatus': 'Arrival'}, {'externalStatus': 'Empty to shipper', 'internalStatus': 'Empty Container Released'}, {'externalStatus': 'Loaded on board (Vessel name : VAYENGA MAERSK)', 'internalStatus': 'Loaded on Vessel'}, {'externalStatus': 'Vessel Departure (Vessel name : VAYENGA MAERSK)', 'internalStatus': 'Departure'}, {'externalStatus': 'Vessel Arrival (Vessel name : VAYENGA MAERSK)', 'internalStatus': 'Arrival'}, {'externalStatus': 'Empty to shipper', 'internalStatus': 'Empty Container Released'}, {'externalStatus': 'Loaded on board (Vessel name : VAYENGA MAERSK)', 'internalStatus': 'Loaded on Vessel'}, {'externalStatus': 'Vessel Departure (Vessel name : VAYENGA MAERSK)', 'internalStatus': 'Departure'}, {'externalStatus': 'Vessel Arrival (Vessel name : VAYENGA MAERSK)', 'internalStatus': 'Arrival'}, {'externalStatus': 'Empty to shipper', 'internalStatus': 'Empty Container Released'}, {'externalStatus': 'Loaded on board (Vessel name : VAYENGA MAERSK)', 'internalStatus': 'Loaded on Vessel'}, {'externalStatus': 'Vessel Departure (Vessel name : VAYENGA MAERSK)', 'internalStatus': 'Departure'}, {'externalStatus': 'Vessel Arrival (Vessel name : VAYENGA MAERSK)', 'internalStatus': 'Arrival'}, {'externalStatus': 'Empty to shipper', 'internalStatus': 'Empty Container Released'}, {'externalStatus': 'Loaded on board (Vessel name : VAYENGA MAERSK)', 'internalStatus': 'Loaded on Vessel'}, {'externalStatus': 'Vessel Departure (Vessel name : VAYENGA MAERSK)', 'internalStatus': 'Departure'}, {'externalStatus': 'Vessel Arrival (Vessel name : VAYENGA MAERSK)', 'internalStatus': 'Arrival'}, {'externalStatus': 'Import Unloaded from Rail', 'internalStatus': 'Unloaded on Vessel'}, {'externalStatus': 'Import Loaded on Rail', 'internalStatus': 'Loaded on Vessel'}, {'externalStatus': 'Full Transshipment Loaded', 'internalStatus': 'Loaded on Vessel'}, {'externalStatus': 'Full Transshipment Loaded', 'internalStatus': 'Loaded on Vessel'}, {'externalStatus': 'Export Loaded on Vessel', 'internalStatus': 'Loaded on Vessel'}, {'externalStatus': 'Empty to Shipper', 'internalStatus': 'Empty Container Released'}, {'externalStatus': 'Import Unloaded from Rail', 'internalStatus': 'Unloaded on Vessel'}, {'externalStatus': 'Import Loaded on Rail', 'internalStatus': 'Loaded on Vessel'}, {'externalStatus': 'Full Transshipment Loaded', 'internalStatus': 'Loaded on Vessel'}, {'externalStatus': 'Full Transshipment Loaded', 'internalStatus': 'Loaded on Vessel'}, {'externalStatus': 'Export Loaded on Vessel', 'internalStatus': 'Loaded on Vessel'}, {'externalStatus': 'Empty to Shipper', 'internalStatus': 'Empty Container Released'}, {'externalStatus': 'Import Unloaded from Rail', 'internalStatus': 'Unloaded on Vessel'}, {'externalStatus': 'Import Loaded on Rail', 'internalStatus': 'Loaded on Vessel'}, {'externalStatus': 'Full Transshipment Loaded', 'internalStatus': 'Loaded on Vessel'}, {'externalStatus': 'Full Transshipment Loaded', 'internalStatus': 'Loaded on Vessel'}, {'externalStatus': 'Export Loaded on Vessel', 'internalStatus': 'Loaded on Vessel'}, {'externalStatus': 'Empty to Shipper', 'internalStatus': 'Empty Container Released'}, {'externalStatus': 'Import Unloaded from Rail', 'internalStatus': 'Unloaded on Vessel'}, {'externalStatus': 'Import Loaded on Rail', 'internalStatus': 'Loaded on Vessel'}, {'externalStatus': 'Full Transshipment Loaded', 'internalStatus': 'Loaded on Vessel'}, {'externalStatus': 'Full Transshipment Loaded', 'internalStatus': 'Loaded on Vessel'}, {'externalStatus': 'Export Loaded on Vessel', 'internalStatus': 'Loaded on Vessel'}, {'externalStatus': 'Empty to Shipper', 'internalStatus': 'Empty Container Released'}, {'externalStatus': 'Import Unloaded from Rail', 'internalStatus': 'Unloaded on Vessel'}, {'externalStatus': 'Import Loaded on Rail', 'internalStatus': 'Loaded on Vessel'}, {'externalStatus': 'Full Transshipment Loaded', 'internalStatus': 'Loaded on Vessel'}, {'externalStatus': 'Full Transshipment Loaded', 'internalStatus': 'Loaded on Vessel'}, {'externalStatus': 'Export Loaded on Vessel', 'internalStatus': 'Loaded on Vessel'}, {'externalStatus': 'Empty to Shipper', 'internalStatus': 'Empty Container Released'}, {'externalStatus': 'Import Unloaded from Rail', 'internalStatus': 'Unloaded on Vessel'}, {'externalStatus': 'Import Loaded on Rail', 'internalStatus': 'Loaded on Vessel'}, {'externalStatus': 'Full Transshipment Loaded', 'internalStatus': 'Loaded on Vessel'}, {'externalStatus': 'Full Transshipment Loaded', 'internalStatus': 'Loaded on Vessel'}, {'externalStatus': 'Export Loaded on Vessel', 'internalStatus': 'Loaded on Vessel'}, {'externalStatus': 'Empty to Shipper', 'internalStatus': 'Empty Container Released'}, {'externalStatus': 'Import Unloaded from Rail', 'internalStatus': 'Unloaded on Vessel'}, {'externalStatus': 'Import Loaded on Rail', 'internalStatus': 'Loaded on Vessel'}, {'externalStatus': 'Full Transshipment Loaded', 'internalStatus': 'Loaded on Vessel'}, {'externalStatus': 'Full Transshipment Loaded', 'internalStatus': 'Loaded on Vessel'}, {'externalStatus': 'Export Loaded on Vessel', 'internalStatus': 'Loaded on Vessel'}, {'externalStatus': 'Empty to Shipper', 'internalStatus': 'Empty Container Released'}, {'externalStatus': 'Import Unloaded from Rail', 'internalStatus': 'Unloaded on Vessel'}, {'externalStatus': 'Import Loaded on Rail', 'internalStatus': 'Loaded on Vessel'}, {'externalStatus': 'Full Transshipment Loaded', 'internalStatus': 'Loaded on Vessel'}, {'externalStatus': 'Full Transshipment Loaded', 'internalStatus': 'Loaded on Vessel'}, {'externalStatus': 'Export Loaded on Vessel', 'internalStatus': 'Loaded on Vessel'}, {'externalStatus': 'Empty to Shipper', 'internalStatus': 'Empty Container Released'}, {'externalStatus': 'Import Unloaded from Rail', 'internalStatus': 'Unloaded on Vessel'}, {'externalStatus': 'Import Loaded on Rail', 'internalStatus': 'Loaded on Vessel'}, {'externalStatus': 'Full Transshipment Loaded', 'internalStatus': 'Loaded on Vessel'}, {'externalStatus': 'Full Transshipment Loaded', 'internalStatus': 'Loaded on Vessel'}, {'externalStatus': 'Export Loaded on Vessel', 'internalStatus': 'Loaded on Vessel'}, {'externalStatus': 'Empty to Shipper', 'internalStatus': 'Empty Container Released'}, {'externalStatus': 'Import Unloaded from Rail', 'internalStatus': 'Unloaded on Vessel'}, {'externalStatus': 'Import Loaded on Rail', 'internalStatus': 'Loaded on Vessel'}, {'externalStatus': 'Full Transshipment Loaded', 'internalStatus': 'Loaded on Vessel'}, {'externalStatus': 'Full Transshipment Loaded', 'internalStatus': 'Loaded on Vessel'}, {'externalStatus': 'Export Loaded on Vessel', 'internalStatus': 'Loaded on Vessel'}, {'externalStatus': 'Empty to Shipper', 'internalStatus': 'Empty Container Released'}, {'externalStatus': 'Import Unloaded from Rail', 'internalStatus': 'Unloaded on Vessel'}, {'externalStatus': 'Import Loaded on Rail', 'internalStatus': 'Loaded on Vessel'}, {'externalStatus': 'Full Transshipment Loaded', 'internalStatus': 'Loaded on Vessel'}, {'externalStatus': 'Full Transshipment Loaded', 'internalStatus': 'Loaded on Vessel'}, {'externalStatus': 'Export Loaded on Vessel', 'internalStatus': 'Loaded on Vessel'}, {'externalStatus': 'Empty to Shipper', 'internalStatus': 'Empty Container Released'}, {'externalStatus': 'DEPARTCU', 'internalStatus': 'Departure'}, {'externalStatus': 'Gate in', 'internalStatus': 'Gate In'}, {'externalStatus': 'Load on MAERSK SEMBAWANG / 237E', 'internalStatus': 'Loaded on Vessel'}, {'externalStatus': 'Discharge', 'internalStatus': 'Departure'}, {'externalStatus': 'Gate out', 'internalStatus': 'Gate Out'}, {'externalStatus': 'Gate in', 'internalStatus': 'Gate In'}, {'externalStatus': 'Load on MSC SVEVA / 248E', 'internalStatus': 'Loaded on Vessel'}, {'externalStatus': 'Discharge', 'internalStatus': 'Departure'}, {'externalStatus': 'Gate out', 'internalStatus': 'Gate Out'}, {'externalStatus': 'DEPARTCU', 'internalStatus': 'Departure'}, {'externalStatus': 'Gate in', 'internalStatus': 'Gate In'}, {'externalStatus': 'Load on MAERSK SEMBAWANG / 237E', 'internalStatus': 'Loaded on Vessel'}, {'externalStatus': 'Discharge', 'internalStatus': 'Departure'}, {'externalStatus': 'Gate out', 'internalStatus': 'Gate Out'}, {'externalStatus': 'Gate in', 'internalStatus': 'Gate In'}, {'externalStatus': 'Load on MSC SVEVA / 248E', 'internalStatus': 'Loaded on Vessel'}, {'externalStatus': 'Discharge', 'internalStatus': 'Departure'}, {'externalStatus': 'Gate out', 'internalStatus': 'Gate Out'}, {'externalStatus': 'DEPARTCU', 'internalStatus': 'Departure'}, {'externalStatus': 'Gate in', 'internalStatus': 'Gate In'}, {'externalStatus': 'Load on MAERSK SEMBAWANG / 237E', 'internalStatus': 'Loaded on Vessel'}, {'externalStatus': 'Discharge', 'internalStatus': 'Departure'}, {'externalStatus': 'Gate out', 'internalStatus': 'Gate Out'}, {'externalStatus': 'Gate in', 'internalStatus': 'Gate In'}, {'externalStatus': 'Load on MSC SVEVA / 248E', 'internalStatus': 'Loaded on Vessel'}, {'externalStatus': 'Discharge', 'internalStatus': 'Departure'}, {'externalStatus': 'Gate out', 'internalStatus': 'Gate Out'}, {'externalStatus': 'DEPARTCU', 'internalStatus': 'Departure'}, {'externalStatus': 'Gate in', 'internalStatus': 'Gate In'}, {'externalStatus': 'Load on MAERSK SEMBAWANG / 237E', 'internalStatus': 'Loaded on Vessel'}, {'externalStatus': 'Discharge', 'internalStatus': 'Departure'}, {'externalStatus': 'Gate out', 'internalStatus': 'Gate Out'}, {'externalStatus': 'Gate in', 'internalStatus': 'Gate In'}, {'externalStatus': 'Load on MSC SVEVA / 248E', 'internalStatus': 'Loaded on Vessel'}, {'externalStatus': 'Discharge', 'internalStatus': 'Departure'}, {'externalStatus': 'Gate out', 'internalStatus': 'Gate Out'}, {'externalStatus': 'DEPARTCU', 'internalStatus': 'Departure'}, {'externalStatus': 'Gate in', 'internalStatus': 'Gate In'}, {'externalStatus': 'Load on MAERSK SEMBAWANG / 237E', 'internalStatus': 'Loaded on Vessel'}, {'externalStatus': 'Discharge', 'internalStatus': 'Departure'}, {'externalStatus': 'Gate out', 'internalStatus': 'Gate Out'}, {'externalStatus': 'Gate in', 'internalStatus': 'Gate In'}, {'externalStatus': 'Load on MSC SVEVA / 248E', 'internalStatus': 'Loaded on Vessel'}, {'externalStatus': 'Discharge', 'internalStatus': 'Departure'}, {'externalStatus': 'Gate out', 'internalStatus': 'Gate Out'}, {'externalStatus': 'DEPARTCU', 'internalStatus': 'Departure'}, {'externalStatus': 'Gate in', 'internalStatus': 'Gate In'}, {'externalStatus': 'Load on MAERSK SEMBAWANG / 237E', 'internalStatus': 'Loaded on Vessel'}, {'externalStatus': 'Discharge', 'internalStatus': 'Departure'}, {'externalStatus': 'Gate out', 'internalStatus': 'Gate Out'}, {'externalStatus': 'Gate in', 'internalStatus': 'Gate In'}, {'externalStatus': 'Load on MSC SVEVA / 248E', 'internalStatus': 'Loaded on Vessel'}, {'externalStatus': 'Discharge', 'internalStatus': 'Departure'}, {'externalStatus': 'Gate out', 'internalStatus': 'Gate Out'}, {'externalStatus': 'DEPARTCU', 'internalStatus': 'Departure'}, {'externalStatus': 'Gate in', 'internalStatus': 'Gate In'}, {'externalStatus': 'Load on MAERSK SEMBAWANG / 237E', 'internalStatus': 'Loaded on Vessel'}, {'externalStatus': 'Discharge', 'internalStatus': 'Departure'}, {'externalStatus': 'Gate out', 'internalStatus': 'Gate Out'}, {'externalStatus': 'Gate in', 'internalStatus': 'Gate In'}, {'externalStatus': 'Load on MSC SVEVA / 248E', 'internalStatus': 'Loaded on Vessel'}, {'externalStatus': 'Discharge', 'internalStatus': 'Departure'}, {'externalStatus': 'Gate out', 'internalStatus': 'Gate Out'}, {'externalStatus': 'DEPARTCU', 'internalStatus': 'Departure'}, {'externalStatus': 'Gate in', 'internalStatus': 'Gate In'}, {'externalStatus': 'Load on MAERSK SEMBAWANG / 237E', 'internalStatus': 'Loaded on Vessel'}, {'externalStatus': 'Discharge', 'internalStatus': 'Departure'}, {'externalStatus': 'Gate out', 'internalStatus': 'Gate Out'}, {'externalStatus': 'Gate in', 'internalStatus': 'Gate In'}, {'externalStatus': 'Load on MSC SVEVA / 248E', 'internalStatus': 'Loaded on Vessel'}, {'externalStatus': 'Discharge', 'internalStatus': 'Departure'}, {'externalStatus': 'Gate out', 'internalStatus': 'Gate Out'}, {'externalStatus': 'DEPARTCU', 'internalStatus': 'Departure'}, {'externalStatus': 'Gate in', 'internalStatus': 'Gate In'}, {'externalStatus': 'Load on MAERSK SEMBAWANG / 237E', 'internalStatus': 'Loaded on Vessel'}, {'externalStatus': 'Discharge', 'internalStatus': 'Departure'}, {'externalStatus': 'Gate out', 'internalStatus': 'Gate Out'}, {'externalStatus': 'Gate in', 'internalStatus': 'Gate In'}, {'externalStatus': 'Load on MSC SVEVA / 248E', 'internalStatus': 'Loaded on Vessel'}, {'externalStatus': 'Discharge', 'internalStatus': 'Departure'}, {'externalStatus': 'Gate out', 'internalStatus': 'Gate Out'}, {'externalStatus': 'DEPARTCU', 'internalStatus': 'Departure'}, {'externalStatus': 'Gate in', 'internalStatus': 'Gate In'}, {'externalStatus': 'Load on MAERSK SEMBAWANG / 237E', 'internalStatus': 'Loaded on Vessel'}, {'externalStatus': 'Discharge', 'internalStatus': 'Departure'}, {'externalStatus': 'Gate out', 'internalStatus': 'Gate Out'}, {'externalStatus': 'Gate in', 'internalStatus': 'Gate In'}, {'externalStatus': 'Load on MSC SVEVA / 248E', 'internalStatus': 'Loaded on Vessel'}, {'externalStatus': 'Discharge', 'internalStatus': 'Departure'}, {'externalStatus': 'Gate out', 'internalStatus': 'Gate Out'}, {'externalStatus': 'DEPARTCU', 'internalStatus': 'Departure'}, {'externalStatus': 'Gate in', 'internalStatus': 'Gate In'}, {'externalStatus': 'Load on MAERSK SEMBAWANG / 237E', 'internalStatus': 'Loaded on Vessel'}, {'externalStatus': 'Discharge', 'internalStatus': 'Departure'}, {'externalStatus': 'Gate out', 'internalStatus': 'Gate Out'}, {'externalStatus': 'Gate in', 'internalStatus': 'Gate In'}, {'externalStatus': 'Load on MSC SVEVA / 248E', 'internalStatus': 'Loaded on Vessel'}, {'externalStatus': 'Discharge', 'internalStatus': 'Departure'}, {'externalStatus': 'Gate out', 'internalStatus': 'Gate Out'}, {'externalStatus': 'DEPARTCU', 'internalStatus': 'Departure'}, {'externalStatus': 'Gate in', 'internalStatus': 'Gate In'}, {'externalStatus': 'Load on MAERSK SEMBAWANG / 237E', 'internalStatus': 'Loaded on Vessel'}, {'externalStatus': 'Discharge', 'internalStatus': 'Departure'}, {'externalStatus': 'Gate out', 'internalStatus': 'Gate Out'}, {'externalStatus': 'Gate in', 'internalStatus': 'Gate In'}, {'externalStatus': 'Load on MSC SVEVA / 248E', 'internalStatus': 'Loaded on Vessel'}, {'externalStatus': 'Discharge', 'internalStatus': 'Departure'}, {'externalStatus': 'Gate out', 'internalStatus': 'Gate Out'}, {'externalStatus': 'DEPARTCU', 'internalStatus': 'Departure'}, {'externalStatus': 'Gate in', 'internalStatus': 'Gate In'}, {'externalStatus': 'Load on MAERSK SEMBAWANG / 237E', 'internalStatus': 'Loaded on Vessel'}, {'externalStatus': 'Discharge', 'internalStatus': 'Departure'}, {'externalStatus': 'Gate out', 'internalStatus': 'Gate Out'}, {'externalStatus': 'Gate in', 'internalStatus': 'Gate In'}, {'externalStatus': 'Load on MSC SVEVA / 248E', 'internalStatus': 'Loaded on Vessel'}, {'externalStatus': 'Discharge', 'internalStatus': 'Departure'}, {'externalStatus': 'Gate out', 'internalStatus': 'Gate Out'}, {'externalStatus': 'DEPARTCU', 'internalStatus': 'Departure'}, {'externalStatus': 'Gate in', 'internalStatus': 'Gate In'}, {'externalStatus': 'Load on MAERSK SEMBAWANG / 237E', 'internalStatus': 'Loaded on Vessel'}, {'externalStatus': 'Discharge', 'internalStatus': 'Departure'}, {'externalStatus': 'Gate out', 'internalStatus': 'Gate Out'}, {'externalStatus': 'Gate in', 'internalStatus': 'Gate In'}, {'externalStatus': 'Load on MSC SVEVA / 248E', 'internalStatus': 'Loaded on Vessel'}, {'externalStatus': 'Discharge', 'internalStatus': 'Departure'}, {'externalStatus': 'Gate out', 'internalStatus': 'Gate Out'}, {'externalStatus': 'DEPARTCU', 'internalStatus': 'Departure'}, {'externalStatus': 'Gate in', 'internalStatus': 'Gate In'}, {'externalStatus': 'Load on MAERSK SEMBAWANG / 237E', 'internalStatus': 'Loaded on Vessel'}, {'externalStatus': 'Discharge', 'internalStatus': 'Departure'}, {'externalStatus': 'Gate out', 'internalStatus': 'Gate Out'}, {'externalStatus': 'Gate in', 'internalStatus': 'Gate In'}, {'externalStatus': 'Load on MSC SVEVA / 248E', 'internalStatus': 'Loaded on Vessel'}, {'externalStatus': 'Discharge', 'internalStatus': 'Departure'}, {'externalStatus': 'Gate out', 'internalStatus': 'Gate Out'}, {'externalStatus': 'DEPARTCU', 'internalStatus': 'Departure'}, {'externalStatus': 'Gate in', 'internalStatus': 'Gate In'}, {'externalStatus': 'Load on MAERSK SEMBAWANG / 237E', 'internalStatus': 'Loaded on Vessel'}, {'externalStatus': 'Discharge', 'internalStatus': 'Departure'}, {'externalStatus': 'Gate out', 'internalStatus': 'Gate Out'}, {'externalStatus': 'Gate in', 'internalStatus': 'Gate In'}, {'externalStatus': 'Load on MSC SVEVA / 248E', 'internalStatus': 'Loaded on Vessel'}, {'externalStatus': 'Discharge', 'internalStatus': 'Departure'}, {'externalStatus': 'Gate out', 'internalStatus': 'Gate Out'}, {'externalStatus': 'DEPARTCU', 'internalStatus': 'Departure'}, {'externalStatus': 'Gate in', 'internalStatus': 'Gate In'}, {'externalStatus': 'Load on MAERSK SEMBAWANG / 237E', 'internalStatus': 'Loaded on Vessel'}, {'externalStatus': 'Discharge', 'internalStatus': 'Departure'}, {'externalStatus': 'Gate out', 'internalStatus': 'Gate Out'}, {'externalStatus': 'Gate in', 'internalStatus': 'Gate In'}, {'externalStatus': 'Load on MSC SVEVA / 248E', 'internalStatus': 'Loaded on Vessel'}, {'externalStatus': 'Discharge', 'internalStatus': 'Departure'}, {'externalStatus': 'Gate out', 'internalStatus': 'Gate Out'}, {'externalStatus': 'Gate out, Empty', 'internalStatus': 'Empty Return'}, {'externalStatus': 'Gate in', 'internalStatus': 'Gate In'}, {'externalStatus': 'Load on MSC ORION / 227N', 'internalStatus': 'Loaded on Vessel'}, {'externalStatus': 'Discharge', 'internalStatus': 'Departure'}, {'externalStatus': 'On rail', 'internalStatus': 'On Rail'}, {'externalStatus': 'Off rail', 'internalStatus': 'Off Rail'}, {'externalStatus': 'Gate out', 'internalStatus': 'Gate Out'}, {'externalStatus': 'Gate out, Empty', 'internalStatus': 'Empty Return'}, {'externalStatus': 'Gate in', 'internalStatus': 'Gate In'}, {'externalStatus': 'Load on MSC ORION / 227N', 'internalStatus': 'Loaded on Vessel'}, {'externalStatus': 'Discharge', 'internalStatus': 'Departure'}, {'externalStatus': 'On rail', 'internalStatus': 'On Rail'}, {'externalStatus': 'Off rail', 'internalStatus': 'Off Rail'}, {'externalStatus': 'Gate out', 'internalStatus': 'Gate Out'}, {'externalStatus': 'DEPARTCU', 'internalStatus': 'Departure'}, {'externalStatus': 'Gate in', 'internalStatus': 'Gate In'}, {'externalStatus': 'Load on MAERSK SEMBAWANG / 237E', 'internalStatus': 'Loaded on Vessel'}, {'externalStatus': 'Discharge', 'internalStatus': 'Departure'}, {'externalStatus': 'Gate out', 'internalStatus': 'Gate Out'}, {'externalStatus': 'Gate in', 'internalStatus': 'Gate In'}, {'externalStatus': 'Load on MSC SVEVA / 248E', 'internalStatus': 'Loaded on Vessel'}, {'externalStatus': 'Discharge', 'internalStatus': 'Departure'}, {'externalStatus': 'Gate out', 'internalStatus': 'Gate Out'}, {'externalStatus': 'DEPARTCU', 'internalStatus': 'Departure'}, {'externalStatus': 'Gate in', 'internalStatus': 'Gate In'}, {'externalStatus': 'Load on MAERSK SEMBAWANG / 237E', 'internalStatus': 'Loaded on Vessel'}, {'externalStatus': 'Discharge', 'internalStatus': 'Departure'}, {'externalStatus': 'Gate out', 'internalStatus': 'Gate Out'}, {'externalStatus': 'Gate in', 'internalStatus': 'Gate In'}, {'externalStatus': 'Load on MSC SVEVA / 248E', 'internalStatus': 'Loaded on Vessel'}, {'externalStatus': 'Discharge', 'internalStatus': 'Departure'}, {'externalStatus': 'Gate out', 'internalStatus': 'Gate Out'}, {'externalStatus': 'DEPARTCU', 'internalStatus': 'Departure'}, {'externalStatus': 'Gate in', 'internalStatus': 'Gate In'}, {'externalStatus': 'Load on MAERSK SEMBAWANG / 237E', 'internalStatus': 'Loaded on Vessel'}, {'externalStatus': 'Discharge', 'internalStatus': 'Departure'}, {'externalStatus': 'Gate out', 'internalStatus': 'Gate Out'}, {'externalStatus': 'Gate in', 'internalStatus': 'Gate In'}, {'externalStatus': 'Load on MSC SVEVA / 248E', 'internalStatus': 'Loaded on Vessel'}, {'externalStatus': 'Discharge', 'internalStatus': 'Departure'}, {'externalStatus': 'Gate out', 'internalStatus': 'Gate Out'}, {'externalStatus': 'DEPARTCU', 'internalStatus': 'Departure'}, {'externalStatus': 'Gate in', 'internalStatus': 'Gate In'}, {'externalStatus': 'Load on MAERSK SEMBAWANG / 237E', 'internalStatus': 'Loaded on Vessel'}, {'externalStatus': 'Discharge', 'internalStatus': 'Departure'}, {'externalStatus': 'Gate out', 'internalStatus': 'Gate Out'}, {'externalStatus': 'Gate in', 'internalStatus': 'Gate In'}, {'externalStatus': 'Load on MSC SVEVA / 248E', 'internalStatus': 'Loaded on Vessel'}, {'externalStatus': 'Discharge', 'internalStatus': 'Departure'}, {'externalStatus': 'Gate out', 'internalStatus': 'Gate Out'}, {'externalStatus': 'DEPARTCU', 'internalStatus': 'Departure'}, {'externalStatus': 'Gate in', 'internalStatus': 'Gate In'}, {'externalStatus': 'Load on MAERSK SEMBAWANG / 237E', 'internalStatus': 'Loaded on Vessel'}, {'externalStatus': 'Discharge', 'internalStatus': 'Departure'}, {'externalStatus': 'Gate out', 'internalStatus': 'Gate Out'}, {'externalStatus': 'Gate in', 'internalStatus': 'Gate In'}, {'externalStatus': 'Load on MSC SVEVA / 248E', 'internalStatus': 'Loaded on Vessel'}, {'externalStatus': 'Discharge', 'internalStatus': 'Departure'}, {'externalStatus': 'Gate out', 'internalStatus': 'Gate Out'}, {'externalStatus': 'DEPARTCU', 'internalStatus': 'Departure'}, {'externalStatus': 'Gate in', 'internalStatus': 'Gate In'}, {'externalStatus': 'Load on MAERSK SEMBAWANG / 237E', 'internalStatus': 'Loaded on Vessel'}, {'externalStatus': 'Discharge', 'internalStatus': 'Departure'}, {'externalStatus': 'Gate out', 'internalStatus': 'Gate Out'}, {'externalStatus': 'Gate in', 'internalStatus': 'Gate In'}, {'externalStatus': 'Load on MSC SVEVA / 248E', 'internalStatus': 'Loaded on Vessel'}, {'externalStatus': 'Discharge', 'internalStatus': 'Departure'}, {'externalStatus': 'Gate out', 'internalStatus': 'Gate Out'}, {'externalStatus': 'DEPARTCU', 'internalStatus': 'Departure'}, {'externalStatus': 'Gate in', 'internalStatus': 'Gate In'}, {'externalStatus': 'Load on MAERSK SEMBAWANG / 237E', 'internalStatus': 'Loaded on Vessel'}, {'externalStatus': 'Discharge', 'internalStatus': 'Departure'}, {'externalStatus': 'Gate out', 'internalStatus': 'Gate Out'}, {'externalStatus': 'Gate in', 'internalStatus': 'Gate In'}, {'externalStatus': 'Load on MSC SVEVA / 248E', 'internalStatus': 'Loaded on Vessel'}, {'externalStatus': 'Discharge', 'internalStatus': 'Departure'}, {'externalStatus': 'Gate out', 'internalStatus': 'Gate Out'}, {'externalStatus': 'DEPARTCU', 'internalStatus': 'Departure'}, {'externalStatus': 'Gate in', 'internalStatus': 'Gate In'}, {'externalStatus': 'Load on MAERSK SEMBAWANG / 237E', 'internalStatus': 'Loaded on Vessel'}, {'externalStatus': 'Discharge', 'internalStatus': 'Departure'}, {'externalStatus': 'Gate out', 'internalStatus': 'Gate Out'}, {'externalStatus': 'Gate in', 'internalStatus': 'Gate In'}, {'externalStatus': 'Load on MSC SVEVA / 248E', 'internalStatus': 'Loaded on Vessel'}, {'externalStatus': 'Discharge', 'internalStatus': 'Departure'}, {'externalStatus': 'Gate out', 'internalStatus': 'Gate Out'}, {'externalStatus': 'DEPARTCU', 'internalStatus': 'Departure'}, {'externalStatus': 'Gate in', 'internalStatus': 'Gate In'}, {'externalStatus': 'Load on MAERSK SEMBAWANG / 237E', 'internalStatus': 'Loaded on Vessel'}, {'externalStatus': 'Discharge', 'internalStatus': 'Departure'}, {'externalStatus': 'Gate out', 'internalStatus': 'Gate Out'}, {'externalStatus': 'Gate in', 'internalStatus': 'Gate In'}, {'externalStatus': 'Load on MSC SVEVA / 248E', 'internalStatus': 'Loaded on Vessel'}, {'externalStatus': 'Discharge', 'internalStatus': 'Departure'}, {'externalStatus': 'Gate out', 'internalStatus': 'Gate Out'}, {'externalStatus': 'DEPARTCU', 'internalStatus': 'Departure'}, {'externalStatus': 'Gate in', 'internalStatus': 'Gate In'}, {'externalStatus': 'Load on MAERSK SEMBAWANG / 237E', 'internalStatus': 'Loaded on Vessel'}, {'externalStatus': 'Discharge', 'internalStatus': 'Departure'}, {'externalStatus': 'Gate out', 'internalStatus': 'Gate Out'}, {'externalStatus': 'Gate in', 'internalStatus': 'Gate In'}, {'externalStatus': 'Load on MSC SVEVA / 248E', 'internalStatus': 'Loaded on Vessel'}, {'externalStatus': 'Discharge', 'internalStatus': 'Departure'}, {'externalStatus': 'Gate out', 'internalStatus': 'Gate Out'}, {'externalStatus': 'DEPARTCU', 'internalStatus': 'Departure'}, {'externalStatus': 'Gate in', 'internalStatus': 'Gate In'}, {'externalStatus': 'Load on MAERSK SEMBAWANG / 237E', 'internalStatus': 'Loaded on Vessel'}, {'externalStatus': 'Discharge', 'internalStatus': 'Departure'}, {'externalStatus': 'Gate out', 'internalStatus': 'Gate Out'}, {'externalStatus': 'Gate in', 'internalStatus': 'Gate In'}, {'externalStatus': 'Load on MSC SVEVA / 248E', 'internalStatus': 'Loaded on Vessel'}, {'externalStatus': 'Discharge', 'internalStatus': 'Departure'}, {'externalStatus': 'Gate out', 'internalStatus': 'Gate Out'}, {'externalStatus': 'DEPARTCU', 'internalStatus': 'Departure'}, {'externalStatus': 'Gate in', 'internalStatus': 'Gate In'}, {'externalStatus': 'Load on MAERSK SEMBAWANG / 237E', 'internalStatus': 'Loaded on Vessel'}, {'externalStatus': 'Discharge', 'internalStatus': 'Departure'}, {'externalStatus': 'Gate out', 'internalStatus': 'Gate Out'}, {'externalStatus': 'Gate in', 'internalStatus': 'Gate In'}, {'externalStatus': 'Load on MSC SVEVA / 248E', 'internalStatus': 'Loaded on Vessel'}, {'externalStatus': 'Discharge', 'internalStatus': 'Departure'}, {'externalStatus': 'Gate out', 'internalStatus': 'Gate Out'}, {'externalStatus': 'DEPARTCU', 'internalStatus': 'Departure'}, {'externalStatus': 'Gate in', 'internalStatus': 'Gate In'}, {'externalStatus': 'Load on MAERSK SEMBAWANG / 237E', 'internalStatus': 'Loaded on Vessel'}, {'externalStatus': 'Discharge', 'internalStatus': 'Departure'}, {'externalStatus': 'Gate out', 'internalStatus': 'Gate Out'}, {'externalStatus': 'Gate in', 'internalStatus': 'Gate In'}, {'externalStatus': 'Load on MSC SVEVA / 248E', 'internalStatus': 'Loaded on Vessel'}, {'externalStatus': 'Discharge', 'internalStatus': 'Departure'}, {'externalStatus': 'Gate out', 'internalStatus': 'Gate Out'}, {'externalStatus': 'DEPARTCU', 'internalStatus': 'Departure'}, {'externalStatus': 'Gate in', 'internalStatus': 'Gate In'}, {'externalStatus': 'Load on MAERSK SEMBAWANG / 237E', 'internalStatus': 'Loaded on Vessel'}, {'externalStatus': 'Discharge', 'internalStatus': 'Departure'}, {'externalStatus': 'Gate out', 'internalStatus': 'Gate Out'}, {'externalStatus': 'Gate in', 'internalStatus': 'Gate In'}, {'externalStatus': 'Load on MSC SVEVA / 248E', 'internalStatus': 'Loaded on Vessel'}, {'externalStatus': 'Discharge', 'internalStatus': 'Departure'}, {'externalStatus': 'Gate out', 'internalStatus': 'Gate Out'}, {'externalStatus': 'DEPARTCU', 'internalStatus': 'Departure'}, {'externalStatus': 'Gate in', 'internalStatus': 'Gate In'}, {'externalStatus': 'Load on MAERSK SEMBAWANG / 237E', 'internalStatus': 'Loaded on Vessel'}, {'externalStatus': 'Discharge', 'internalStatus': 'Departure'}, {'externalStatus': 'Gate out', 'internalStatus': 'Gate Out'}, {'externalStatus': 'Gate in', 'internalStatus': 'Gate In'}, {'externalStatus': 'Load on MSC SVEVA / 248E', 'internalStatus': 'Loaded on Vessel'}, {'externalStatus': 'Discharge', 'internalStatus': 'Departure'}, {'externalStatus': 'Gate out', 'internalStatus': 'Gate Out'}, {'externalStatus': 'DEPARTCU', 'internalStatus': 'Departure'}, {'externalStatus': 'Gate in', 'internalStatus': 'Gate In'}, {'externalStatus': 'Load on MAERSK SEMBAWANG / 237E', 'internalStatus': 'Loaded on Vessel'}, {'externalStatus': 'Discharge', 'internalStatus': 'Departure'}, {'externalStatus': 'Gate out', 'internalStatus': 'Gate Out'}, {'externalStatus': 'Gate in', 'internalStatus': 'Gate In'}, {'externalStatus': 'Load on MSC SVEVA / 248E', 'internalStatus': 'Loaded on Vessel'}, {'externalStatus': 'Discharge', 'internalStatus': 'Departure'}, {'externalStatus': 'Gate out', 'internalStatus': 'Gate Out'}, {'externalStatus': 'DEPARTCU', 'internalStatus': 'Departure'}, {'externalStatus': 'Gate in', 'internalStatus': 'Gate In'}, {'externalStatus': 'Load on MAERSK SEMBAWANG / 237E', 'internalStatus': 'Loaded on Vessel'}, {'externalStatus': 'Discharge', 'internalStatus': 'Departure'}, {'externalStatus': 'Gate out', 'internalStatus': 'Gate Out'}, {'externalStatus': 'Gate in', 'internalStatus': 'Gate In'}, {'externalStatus': 'Load on MSC SVEVA / 248E', 'internalStatus': 'Loaded on Vessel'}, {'externalStatus': 'Discharge', 'internalStatus': 'Departure'}, {'externalStatus': 'Gate out', 'internalStatus': 'Gate Out'}, {'externalStatus': 'DEPARTCU', 'internalStatus': 'Departure'}, {'externalStatus': 'Gate in', 'internalStatus': 'Gate In'}, {'externalStatus': 'Load on MAERSK SEMBAWANG / 237E', 'internalStatus': 'Loaded on Vessel'}, {'externalStatus': 'Discharge', 'internalStatus': 'Departure'}, {'externalStatus': 'Gate out', 'internalStatus': 'Gate Out'}, {'externalStatus': 'Gate in', 'internalStatus': 'Gate In'}, {'externalStatus': 'Load on MSC SVEVA / 248E', 'internalStatus': 'Loaded on Vessel'}, {'externalStatus': 'Discharge', 'internalStatus': 'Departure'}, {'externalStatus': 'Gate out', 'internalStatus': 'Gate Out'}, {'externalStatus': 'DEPARTCU', 'internalStatus': 'Departure'}, {'externalStatus': 'Gate in', 'internalStatus': 'Gate In'}, {'externalStatus': 'Load on MAERSK SEMBAWANG / 237E', 'internalStatus': 'Loaded on Vessel'}, {'externalStatus': 'Discharge', 'internalStatus': 'Departure'}, {'externalStatus': 'Gate out', 'internalStatus': 'Gate Out'}, {'externalStatus': 'Gate in', 'internalStatus': 'Gate In'}, {'externalStatus': 'Load on MSC SVEVA / 248E', 'internalStatus': 'Loaded on Vessel'}, {'externalStatus': 'Discharge', 'internalStatus': 'Departure'}, {'externalStatus': 'Gate out', 'internalStatus': 'Gate Out'}, {'externalStatus': 'DEPARTCU', 'internalStatus': 'Departure'}, {'externalStatus': 'Gate in', 'internalStatus': 'Gate In'}, {'externalStatus': 'Load on MAERSK SEMBAWANG / 237E', 'internalStatus': 'Loaded on Vessel'}, {'externalStatus': 'Discharge', 'internalStatus': 'Departure'}, {'externalStatus': 'Gate out', 'internalStatus': 'Gate Out'}, {'externalStatus': 'Gate in', 'internalStatus': 'Gate In'}, {'externalStatus': 'Load on MSC SVEVA / 248E', 'internalStatus': 'Loaded on Vessel'}, {'externalStatus': 'Discharge', 'internalStatus': 'Departure'}, {'externalStatus': 'Gate out', 'internalStatus': 'Gate Out'}, {'externalStatus': 'Loaded on Board', 'internalStatus': 'Loaded on Vessel'}, {'externalStatus': 'Expected Arrival Update', 'internalStatus': 'Arrival'}, {'externalStatus': 'Loaded on Train', 'internalStatus': 'Loaded on Vessel'}, {'externalStatus': 'Rail Arrival in-Transit', 'internalStatus': 'Arrival'}, {'externalStatus': 'Expected Arrival at Dest. Ramp', 'internalStatus': 'Arrival'}, {'externalStatus': 'Expected Arrival Place of Delivery', 'internalStatus': 'Arrival'}, {'externalStatus': 'Loaded on Board', 'internalStatus': 'Loaded on Vessel'}, {'externalStatus': 'Expected Arrival Update', 'internalStatus': 'Arrival'}, {'externalStatus': 'Loaded on Train', 'internalStatus': 'Loaded on Vessel'}, {'externalStatus': 'Rail Arrival in-Transit', 'internalStatus': 'Arrival'}, {'externalStatus': 'Expected Arrival at Dest. Ramp', 'internalStatus': 'Arrival'}, {'externalStatus': 'Expected Arrival Place of Delivery', 'internalStatus': 'Arrival'}, {'externalStatus': 'Loaded on Board', 'internalStatus': 'Loaded on Vessel'}, {'externalStatus': 'Expected Arrival Update', 'internalStatus': 'Arrival'}, {'externalStatus': 'Loaded on Train', 'internalStatus': 'Loaded on Vessel'}, {'externalStatus': 'Rail Arrival in-Transit', 'internalStatus': 'Arrival'}, {'externalStatus': 'Expected Arrival at Dest. Ramp', 'internalStatus': 'Arrival'}, {'externalStatus': 'Expected Arrival Place of Delivery', 'internalStatus': 'Arrival'}, {'externalStatus': 'Loaded on Board', 'internalStatus': 'Loaded on Vessel'}, {'externalStatus': 'Expected Arrival Update', 'internalStatus': 'Arrival'}, {'externalStatus': 'Loaded on Train', 'internalStatus': 'Loaded on Vessel'}, {'externalStatus': 'Rail Arrival in-Transit', 'internalStatus': 'Arrival'}, {'externalStatus': 'Expected Arrival at Dest. Ramp', 'internalStatus': 'Arrival'}, {'externalStatus': 'Expected Arrival Place of Delivery', 'internalStatus': 'Arrival'}, {'externalStatus': 'Loaded on Board', 'internalStatus': 'Loaded on Vessel'}, {'externalStatus': 'Expected Arrival Update', 'internalStatus': 'Arrival'}, {'externalStatus': 'Loaded on Train', 'internalStatus': 'Loaded on Vessel'}, {'externalStatus': 'Rail Arrival in-Transit', 'internalStatus': 'Arrival'}, {'externalStatus': 'Expected Arrival at Dest. Ramp', 'internalStatus': 'Arrival'}, {'externalStatus': 'Expected Arrival Place of Delivery', 'internalStatus': 'Arrival'}, {'externalStatus': 'Loaded on Board', 'internalStatus': 'Loaded on Vessel'}, {'externalStatus': 'Expected Arrival Update', 'internalStatus': 'Arrival'}, {'externalStatus': 'Loaded on Train', 'internalStatus': 'Loaded on Vessel'}, {'externalStatus': 'Rail Arrival in-Transit', 'internalStatus': 'Arrival'}, {'externalStatus': 'Expected Arrival at Dest. Ramp', 'internalStatus': 'Arrival'}, {'externalStatus': 'Expected Arrival Place of Delivery', 'internalStatus': 'Arrival'}, {'externalStatus': 'Loaded on Board', 'internalStatus': 'Loaded on Vessel'}, {'externalStatus': 'Expected Arrival Update', 'internalStatus': 'Arrival'}, {'externalStatus': 'Loaded on Train', 'internalStatus': 'Loaded on Vessel'}, {'externalStatus': 'Rail Arrival in-Transit', 'internalStatus': 'Arrival'}, {'externalStatus': 'Expected Arrival at Dest. Ramp', 'internalStatus': 'Arrival'}, {'externalStatus': 'Expected Arrival Place of Delivery', 'internalStatus': 'Arrival'}, {'externalStatus': 'Loaded on Board', 'internalStatus': 'Loaded on Vessel'}, {'externalStatus': 'Expected Arrival Update', 'internalStatus': 'Arrival'}, {'externalStatus': 'Loaded on Train', 'internalStatus': 'Loaded on Vessel'}, {'externalStatus': 'Rail Arrival in-Transit', 'internalStatus': 'Arrival'}, {'externalStatus': 'Expected Arrival at Dest. Ramp', 'internalStatus': 'Arrival'}, {'externalStatus': 'Expected Arrival Place of Delivery', 'internalStatus': 'Arrival'}, {'externalStatus': 'Empty Container Release to Shipper', 'internalStatus': 'Empty Container Released'}, {'externalStatus': 'Gate In to Outbound Terminal', 'internalStatus': 'Outbound Terminal'}, {'externalStatus': \"Loaded on 'MARINA ONE 001S' at Port of Loading MARINA ONE 001S\", 'internalStatus': 'Loaded on Vessel'}, {'externalStatus': \"'MARINA ONE 001S' Departure from Port of Loading MARINA ONE 001S\", 'internalStatus': 'Departure'}, {'externalStatus': \"'MARINA ONE 001S' Arrival at Port of Discharging MARINA ONE 001S\", 'internalStatus': 'Arrival'}, {'externalStatus': \"Unloaded from 'MARINA ONE 001S' at Port of Discharging MARINA ONE 001S\", 'internalStatus': 'Unloaded on Vessel'}, {'externalStatus': 'Empty Container Returned from Customer', 'internalStatus': 'Empty Return'}, {'externalStatus': 'Empty Container Release to Shipper', 'internalStatus': 'Empty Container Released'}, {'externalStatus': 'Gate In to Outbound Terminal', 'internalStatus': 'Outbound Terminal'}, {'externalStatus': \"Loaded on 'MARINA ONE 001S' at Port of Loading MARINA ONE 001S\", 'internalStatus': 'Loaded on Vessel'}, {'externalStatus': \"'MARINA ONE 001S' Departure from Port of Loading MARINA ONE 001S\", 'internalStatus': 'Departure'}, {'externalStatus': \"'MARINA ONE 001S' Arrival at Port of Discharging MARINA ONE 001S\", 'internalStatus': 'Arrival'}, {'externalStatus': \"Unloaded from 'MARINA ONE 001S' at Port of Discharging MARINA ONE 001S\", 'internalStatus': 'Unloaded on Vessel'}, {'externalStatus': 'Empty Container Returned from Customer', 'internalStatus': 'Empty Return'}, {'externalStatus': 'Empty Container Release to Shipper', 'internalStatus': 'Empty Container Released'}, {'externalStatus': 'Gate In to Outbound Terminal', 'internalStatus': 'Outbound Terminal'}, {'externalStatus': \"Loaded on 'MARINA ONE 001S' at Port of Loading MARINA ONE 001S\", 'internalStatus': 'Loaded on Vessel'}, {'externalStatus': \"'MARINA ONE 001S' Departure from Port of Loading MARINA ONE 001S\", 'internalStatus': 'Departure'}, {'externalStatus': \"'MARINA ONE 001S' Arrival at Port of Discharging MARINA ONE 001S\", 'internalStatus': 'Arrival'}, {'externalStatus': \"Unloaded from 'MARINA ONE 001S' at Port of Discharging MARINA ONE 001S\", 'internalStatus': 'Unloaded on Vessel'}, {'externalStatus': 'Empty Container Returned from Customer', 'internalStatus': 'Empty Return'}, {'externalStatus': 'Empty Container Release to Shipper', 'internalStatus': 'Empty Container Released'}, {'externalStatus': 'Gate In to Outbound Terminal', 'internalStatus': 'Outbound Terminal'}, {'externalStatus': \"Loaded on 'MARINA ONE 001S' at Port of Loading MARINA ONE 001S\", 'internalStatus': 'Loaded on Vessel'}, {'externalStatus': \"'MARINA ONE 001S' Departure from Port of Loading MARINA ONE 001S\", 'internalStatus': 'Departure'}, {'externalStatus': \"'MARINA ONE 001S' Arrival at Port of Discharging MARINA ONE 001S\", 'internalStatus': 'Arrival'}, {'externalStatus': \"Unloaded from 'MARINA ONE 001S' at Port of Discharging MARINA ONE 001S\", 'internalStatus': 'Unloaded on Vessel'}, {'externalStatus': 'Empty Container Returned from Customer', 'internalStatus': 'Empty Return'}, {'externalStatus': 'Empty Container Release to Shipper', 'internalStatus': 'Empty Container Released'}, {'externalStatus': 'Gate In to Outbound Terminal', 'internalStatus': 'Outbound Terminal'}, {'externalStatus': \"Loaded on 'MARINA ONE 001S' at Port of Loading MARINA ONE 001S\", 'internalStatus': 'Loaded on Vessel'}, {'externalStatus': \"'MARINA ONE 001S' Departure from Port of Loading MARINA ONE 001S\", 'internalStatus': 'Departure'}, {'externalStatus': \"'MARINA ONE 001S' Arrival at Port of Discharging MARINA ONE 001S\", 'internalStatus': 'Arrival'}, {'externalStatus': \"Unloaded from 'MARINA ONE 001S' at Port of Discharging MARINA ONE 001S\", 'internalStatus': 'Unloaded on Vessel'}, {'externalStatus': 'Empty Container Returned from Customer', 'internalStatus': 'Empty Return'}, {'externalStatus': 'Empty Container Release to Shipper', 'internalStatus': 'Empty Container Released'}, {'externalStatus': 'Gate In to Outbound Terminal', 'internalStatus': 'Outbound Terminal'}, {'externalStatus': \"Loaded on 'MARINA ONE 001S' at Port of Loading MARINA ONE 001S\", 'internalStatus': 'Loaded on Vessel'}, {'externalStatus': \"'MARINA ONE 001S' Departure from Port of Loading MARINA ONE 001S\", 'internalStatus': 'Departure'}, {'externalStatus': \"'MARINA ONE 001S' Arrival at Port of Discharging MARINA ONE 001S\", 'internalStatus': 'Arrival'}, {'externalStatus': \"Unloaded from 'MARINA ONE 001S' at Port of Discharging MARINA ONE 001S\", 'internalStatus': 'Unloaded on Vessel'}, {'externalStatus': 'Empty Container Returned from Customer', 'internalStatus': 'Empty Return'}, {'externalStatus': 'Empty Container Release to Shipper', 'internalStatus': 'Empty Container Released'}, {'externalStatus': 'Gate In to Outbound Terminal', 'internalStatus': 'Outbound Terminal'}, {'externalStatus': \"Loaded on 'MARINA ONE 001S' at Port of Loading MARINA ONE 001S\", 'internalStatus': 'Loaded on Vessel'}, {'externalStatus': \"'MARINA ONE 001S' Departure from Port of Loading MARINA ONE 001S\", 'internalStatus': 'Departure'}, {'externalStatus': \"'MARINA ONE 001S' Arrival at Port of Discharging MARINA ONE 001S\", 'internalStatus': 'Arrival'}, {'externalStatus': \"Unloaded from 'MARINA ONE 001S' at Port of Discharging MARINA ONE 001S\", 'internalStatus': 'Unloaded on Vessel'}, {'externalStatus': 'Empty Container Returned from Customer', 'internalStatus': 'Empty Return'}, {'externalStatus': 'Empty Container Release to Shipper', 'internalStatus': 'Empty Container Released'}, {'externalStatus': 'Gate In to Outbound Terminal', 'internalStatus': 'Outbound Terminal'}, {'externalStatus': \"Loaded on 'MARINA ONE 001S' at Port of Loading MARINA ONE 001S\", 'internalStatus': 'Loaded on Vessel'}, {'externalStatus': \"'MARINA ONE 001S' Departure from Port of Loading MARINA ONE 001S\", 'internalStatus': 'Departure'}, {'externalStatus': \"'MARINA ONE 001S' Arrival at Port of Discharging MARINA ONE 001S\", 'internalStatus': 'Arrival'}, {'externalStatus': \"Unloaded from 'MARINA ONE 001S' at Port of Discharging MARINA ONE 001S\", 'internalStatus': 'Unloaded on Vessel'}, {'externalStatus': 'Empty Container Returned from Customer', 'internalStatus': 'Empty Return'}, {'externalStatus': 'Empty Container Release to Shipper', 'internalStatus': 'Empty Container Released'}, {'externalStatus': 'Gate In to Outbound Terminal', 'internalStatus': 'Outbound Terminal'}, {'externalStatus': \"Loaded on 'MARINA ONE 001S' at Port of Loading MARINA ONE 001S\", 'internalStatus': 'Loaded on Vessel'}, {'externalStatus': \"'MARINA ONE 001S' Departure from Port of Loading MARINA ONE 001S\", 'internalStatus': 'Departure'}, {'externalStatus': \"'MARINA ONE 001S' Arrival at Port of Discharging MARINA ONE 001S\", 'internalStatus': 'Arrival'}, {'externalStatus': \"Unloaded from 'MARINA ONE 001S' at Port of Discharging MARINA ONE 001S\", 'internalStatus': 'Unloaded on Vessel'}, {'externalStatus': 'Empty Container Returned from Customer', 'internalStatus': 'Empty Return'}, {'externalStatus': 'Gate out, Empty', 'internalStatus': 'Empty Return'}, {'externalStatus': 'Gate in', 'internalStatus': 'Gate In'}, {'externalStatus': 'Load on MOGENS MAERSK / 246W', 'internalStatus': 'Loaded on Vessel'}, {'externalStatus': 'Discharge', 'internalStatus': 'Departure'}, {'externalStatus': 'Load on MSC ALEXANDRA / 248W', 'internalStatus': 'Loaded on Vessel'}, {'externalStatus': 'Discharge', 'internalStatus': 'Departure'}, {'externalStatus': 'Gate out', 'internalStatus': 'Gate Out'}, {'externalStatus': 'Gate out, Empty', 'internalStatus': 'Empty Return'}, {'externalStatus': 'Gate in', 'internalStatus': 'Gate In'}, {'externalStatus': 'Gate out', 'internalStatus': 'Gate Out'}, {'externalStatus': 'Gate in', 'internalStatus': 'Gate In'}, {'externalStatus': 'Load on SAN CLEMENTE / 244E', 'internalStatus': 'Loaded on Vessel'}, {'externalStatus': 'Discharge', 'internalStatus': 'Departure'}, {'externalStatus': 'Load on MAERSK GUATEMALA / 247E', 'internalStatus': 'Loaded on Vessel'}, {'externalStatus': 'Discharge', 'internalStatus': 'Departure'}, {'externalStatus': 'Gate out', 'internalStatus': 'Gate Out'}, {'externalStatus': 'Estimated Time of Arrival', 'internalStatus': 'Arrival'}, {'externalStatus': 'Export Loaded on Vessel', 'internalStatus': 'Loaded on Vessel'}, {'externalStatus': 'Export Unloaded from Rail', 'internalStatus': 'Unloaded on Vessel'}, {'externalStatus': 'Export Rail Departure', 'internalStatus': 'Departure'}, {'externalStatus': 'Export Loaded on Rail', 'internalStatus': 'Loaded on Vessel'}, {'externalStatus': 'Empty to Shipper', 'internalStatus': 'Empty Container Released'}, {'externalStatus': 'Estimated Time of Arrival', 'internalStatus': 'Arrival'}, {'externalStatus': 'Export Loaded on Vessel', 'internalStatus': 'Loaded on Vessel'}, {'externalStatus': 'Export Unloaded from Rail', 'internalStatus': 'Unloaded on Vessel'}, {'externalStatus': 'Export Rail Departure', 'internalStatus': 'Departure'}, {'externalStatus': 'Export Loaded on Rail', 'internalStatus': 'Loaded on Vessel'}, {'externalStatus': 'Empty to Shipper', 'internalStatus': 'Empty Container Released'}, {'externalStatus': 'Estimated Time of Arrival', 'internalStatus': 'Arrival'}, {'externalStatus': 'Export Loaded on Vessel', 'internalStatus': 'Loaded on Vessel'}, {'externalStatus': 'Export Unloaded from Rail', 'internalStatus': 'Unloaded on Vessel'}, {'externalStatus': 'Export Rail Departure', 'internalStatus': 'Departure'}, {'externalStatus': 'Export Loaded on Rail', 'internalStatus': 'Loaded on Vessel'}, {'externalStatus': 'Empty to Shipper', 'internalStatus': 'Empty Container Released'}, {'externalStatus': 'Estimated Time of Arrival', 'internalStatus': 'Arrival'}, {'externalStatus': 'Export Loaded on Vessel', 'internalStatus': 'Loaded on Vessel'}, {'externalStatus': 'Export Unloaded from Rail', 'internalStatus': 'Unloaded on Vessel'}, {'externalStatus': 'Export Rail Departure', 'internalStatus': 'Departure'}, {'externalStatus': 'Export Loaded on Rail', 'internalStatus': 'Loaded on Vessel'}, {'externalStatus': 'Empty to Shipper', 'internalStatus': 'Empty Container Released'}, {'externalStatus': 'Gate out, Empty', 'internalStatus': 'Empty Return'}, {'externalStatus': 'Gate in', 'internalStatus': 'Gate In'}, {'externalStatus': 'Load on MSC ORION / 227N', 'internalStatus': 'Loaded on Vessel'}, {'externalStatus': 'Discharge', 'internalStatus': 'Departure'}, {'externalStatus': 'On rail', 'internalStatus': 'On Rail'}, {'externalStatus': 'Off rail', 'internalStatus': 'Off Rail'}, {'externalStatus': 'Gate out', 'internalStatus': 'Gate Out'}, {'externalStatus': 'Gate out, Empty', 'internalStatus': 'Empty Return'}, {'externalStatus': 'Gate in', 'internalStatus': 'Gate In'}, {'externalStatus': 'Load on MSC ORION / 227N', 'internalStatus': 'Loaded on Vessel'}, {'externalStatus': 'Discharge', 'internalStatus': 'Departure'}, {'externalStatus': 'On rail', 'internalStatus': 'On Rail'}, {'externalStatus': 'Off rail', 'internalStatus': 'Off Rail'}, {'externalStatus': 'Gate out', 'internalStatus': 'Gate Out'}, {'externalStatus': 'Gate out, Empty', 'internalStatus': 'Empty Return'}, {'externalStatus': 'Gate in', 'internalStatus': 'Gate In'}, {'externalStatus': 'Load on MSC ORION / 227N', 'internalStatus': 'Loaded on Vessel'}, {'externalStatus': 'Discharge', 'internalStatus': 'Departure'}, {'externalStatus': 'On rail', 'internalStatus': 'On Rail'}, {'externalStatus': 'Off rail', 'internalStatus': 'Off Rail'}, {'externalStatus': 'Gate out', 'internalStatus': 'Gate Out'}, {'externalStatus': 'Gate out, Empty', 'internalStatus': 'Empty Return'}, {'externalStatus': 'Gate in', 'internalStatus': 'Gate In'}, {'externalStatus': 'Load on MSC ORION / 227N', 'internalStatus': 'Loaded on Vessel'}, {'externalStatus': 'Discharge', 'internalStatus': 'Departure'}, {'externalStatus': 'On rail', 'internalStatus': 'On Rail'}, {'externalStatus': 'Off rail', 'internalStatus': 'Off Rail'}, {'externalStatus': 'Gate out', 'internalStatus': 'Gate Out'}, {'externalStatus': 'Gate out, Empty', 'internalStatus': 'Empty Return'}, {'externalStatus': 'Gate in', 'internalStatus': 'Gate In'}, {'externalStatus': 'Load on MSC ORION / 227N', 'internalStatus': 'Loaded on Vessel'}, {'externalStatus': 'Discharge', 'internalStatus': 'Departure'}, {'externalStatus': 'On rail', 'internalStatus': 'On Rail'}, {'externalStatus': 'Off rail', 'internalStatus': 'Off Rail'}, {'externalStatus': 'Gate out', 'internalStatus': 'Gate Out'}, {'externalStatus': 'Gate out, Empty', 'internalStatus': 'Empty Return'}, {'externalStatus': 'Gate in', 'internalStatus': 'Gate In'}, {'externalStatus': 'Load on MSC ORION / 227N', 'internalStatus': 'Loaded on Vessel'}, {'externalStatus': 'Discharge', 'internalStatus': 'Departure'}, {'externalStatus': 'On rail', 'internalStatus': 'On Rail'}, {'externalStatus': 'Off rail', 'internalStatus': 'Off Rail'}, {'externalStatus': 'Gate out', 'internalStatus': 'Gate Out'}, {'externalStatus': 'Gate out, Empty', 'internalStatus': 'Empty Return'}, {'externalStatus': 'Gate in', 'internalStatus': 'Gate In'}, {'externalStatus': 'Load on MSC ORION / 227N', 'internalStatus': 'Loaded on Vessel'}, {'externalStatus': 'Discharge', 'internalStatus': 'Departure'}, {'externalStatus': 'On rail', 'internalStatus': 'On Rail'}, {'externalStatus': 'Off rail', 'internalStatus': 'Off Rail'}, {'externalStatus': 'Gate out', 'internalStatus': 'Gate Out'}, {'externalStatus': 'Gate out, Empty', 'internalStatus': 'Empty Return'}, {'externalStatus': 'Gate in', 'internalStatus': 'Gate In'}, {'externalStatus': 'Load on MSC ORION / 227N', 'internalStatus': 'Loaded on Vessel'}, {'externalStatus': 'Discharge', 'internalStatus': 'Departure'}, {'externalStatus': 'On rail', 'internalStatus': 'On Rail'}, {'externalStatus': 'Off rail', 'internalStatus': 'Off Rail'}, {'externalStatus': 'Gate out', 'internalStatus': 'Gate Out'}, {'externalStatus': 'Gate out, Empty', 'internalStatus': 'Empty Return'}, {'externalStatus': 'Gate in', 'internalStatus': 'Gate In'}, {'externalStatus': 'Load on MSC ORION / 227N', 'internalStatus': 'Loaded on Vessel'}, {'externalStatus': 'Discharge', 'internalStatus': 'Departure'}, {'externalStatus': 'On rail', 'internalStatus': 'On Rail'}, {'externalStatus': 'Off rail', 'internalStatus': 'Off Rail'}, {'externalStatus': 'Gate out', 'internalStatus': 'Gate Out'}, {'externalStatus': 'Gate out, Empty', 'internalStatus': 'Empty Return'}, {'externalStatus': 'Gate in', 'internalStatus': 'Gate In'}, {'externalStatus': 'Load on MSC ORION / 227N', 'internalStatus': 'Loaded on Vessel'}, {'externalStatus': 'Discharge', 'internalStatus': 'Departure'}, {'externalStatus': 'On rail', 'internalStatus': 'On Rail'}, {'externalStatus': 'Off rail', 'internalStatus': 'Off Rail'}, {'externalStatus': 'Gate out', 'internalStatus': 'Gate Out'}, {'externalStatus': 'Gate out, Empty', 'internalStatus': 'Empty Return'}, {'externalStatus': 'Gate in', 'internalStatus': 'Gate In'}, {'externalStatus': 'Load on MSC ORION / 227N', 'internalStatus': 'Loaded on Vessel'}, {'externalStatus': 'Discharge', 'internalStatus': 'Departure'}, {'externalStatus': 'On rail', 'internalStatus': 'On Rail'}, {'externalStatus': 'Off rail', 'internalStatus': 'Off Rail'}, {'externalStatus': 'Gate out', 'internalStatus': 'Gate Out'}, {'externalStatus': 'Gate out, Empty', 'internalStatus': 'Empty Return'}, {'externalStatus': 'Gate in', 'internalStatus': 'Gate In'}, {'externalStatus': 'Load on MSC ORION / 227N', 'internalStatus': 'Loaded on Vessel'}, {'externalStatus': 'Discharge', 'internalStatus': 'Departure'}, {'externalStatus': 'On rail', 'internalStatus': 'On Rail'}, {'externalStatus': 'Off rail', 'internalStatus': 'Off Rail'}, {'externalStatus': 'Gate out', 'internalStatus': 'Gate Out'}, {'externalStatus': 'Loaded at T/S POL', 'internalStatus': 'Loaded on Vessel'}, {'externalStatus': 'Loaded at First POL', 'internalStatus': 'Loaded on Vessel'}, {'externalStatus': 'Loaded at T/S POL', 'internalStatus': 'Loaded on Vessel'}, {'externalStatus': 'Loaded at First POL', 'internalStatus': 'Loaded on Vessel'}, {'externalStatus': 'Loaded at T/S POL', 'internalStatus': 'Loaded on Vessel'}, {'externalStatus': 'Loaded at First POL', 'internalStatus': 'Loaded on Vessel'}, {'externalStatus': 'Loaded at T/S POL', 'internalStatus': 'Loaded on Vessel'}, {'externalStatus': 'Loaded at First POL', 'internalStatus': 'Loaded on Vessel'}, {'externalStatus': 'Loaded at T/S POL', 'internalStatus': 'Loaded on Vessel'}, {'externalStatus': 'Loaded at First POL', 'internalStatus': 'Loaded on Vessel'}, {'externalStatus': 'Loaded at T/S POL', 'internalStatus': 'Loaded on Vessel'}, {'externalStatus': 'Loaded at First POL', 'internalStatus': 'Loaded on Vessel'}, {'externalStatus': 'Loaded at T/S POL', 'internalStatus': 'Loaded on Vessel'}, {'externalStatus': 'Loaded at First POL', 'internalStatus': 'Loaded on Vessel'}, {'externalStatus': 'Loaded at T/S POL', 'internalStatus': 'Loaded on Vessel'}, {'externalStatus': 'Loaded at First POL', 'internalStatus': 'Loaded on Vessel'}, {'externalStatus': 'Loaded at T/S POL', 'internalStatus': 'Loaded on Vessel'}, {'externalStatus': 'Loaded at First POL', 'internalStatus': 'Loaded on Vessel'}, {'externalStatus': 'Loaded at T/S POL', 'internalStatus': 'Loaded on Vessel'}, {'externalStatus': 'Loaded at First POL', 'internalStatus': 'Loaded on Vessel'}, {'externalStatus': 'Loaded at T/S POL', 'internalStatus': 'Loaded on Vessel'}, {'externalStatus': 'Loaded at First POL', 'internalStatus': 'Loaded on Vessel'}, {'externalStatus': 'Loaded at T/S POL', 'internalStatus': 'Loaded on Vessel'}, {'externalStatus': 'Loaded at First POL', 'internalStatus': 'Loaded on Vessel'}, {'externalStatus': 'Loaded at T/S POL', 'internalStatus': 'Loaded on Vessel'}, {'externalStatus': 'Loaded at First POL', 'internalStatus': 'Loaded on Vessel'}, {'externalStatus': 'Loaded at T/S POL', 'internalStatus': 'Loaded on Vessel'}, {'externalStatus': 'Loaded at First POL', 'internalStatus': 'Loaded on Vessel'}, {'externalStatus': 'Loaded at T/S POL', 'internalStatus': 'Loaded on Vessel'}, {'externalStatus': 'Loaded at First POL', 'internalStatus': 'Loaded on Vessel'}, {'externalStatus': 'Loaded at T/S POL', 'internalStatus': 'Loaded on Vessel'}, {'externalStatus': 'Loaded at First POL', 'internalStatus': 'Loaded on Vessel'}, {'externalStatus': 'Actual time of departure', 'internalStatus': 'Departure'}, {'externalStatus': 'Actual time of departure', 'internalStatus': 'Departure'}, {'externalStatus': 'Actual time of departure', 'internalStatus': 'Departure'}, {'externalStatus': 'Actual time of departure', 'internalStatus': 'Departure'}, {'externalStatus': 'Actual time of departure', 'internalStatus': 'Departure'}, {'externalStatus': 'Actual time of departure', 'internalStatus': 'Departure'}, {'externalStatus': 'Actual time of departure', 'internalStatus': 'Departure'}, {'externalStatus': 'Actual time of departure', 'internalStatus': 'Departure'}, {'externalStatus': 'Actual time of departure', 'internalStatus': 'Departure'}, {'externalStatus': 'Actual time of departure', 'internalStatus': 'Departure'}, {'externalStatus': 'Actual time of departure', 'internalStatus': 'Departure'}, {'externalStatus': 'Actual time of departure', 'internalStatus': 'Departure'}, {'externalStatus': 'Actual time of departure', 'internalStatus': 'Departure'}, {'externalStatus': 'Actual time of departure', 'internalStatus': 'Departure'}, {'externalStatus': 'Actual time of departure', 'internalStatus': 'Departure'}, {'externalStatus': 'Actual time of departure', 'internalStatus': 'Departure'}, {'externalStatus': 'Actual time of departure', 'internalStatus': 'Departure'}, {'externalStatus': 'Actual time of departure', 'internalStatus': 'Departure'}, {'externalStatus': 'Actual time of departure', 'internalStatus': 'Departure'}, {'externalStatus': 'Actual time of departure', 'internalStatus': 'Departure'}, {'externalStatus': 'Actual time of departure', 'internalStatus': 'Departure'}, {'externalStatus': 'Actual time of departure', 'internalStatus': 'Departure'}, {'externalStatus': 'Actual time of departure', 'internalStatus': 'Departure'}, {'externalStatus': 'Actual time of departure', 'internalStatus': 'Departure'}, {'externalStatus': 'Actual time of departure', 'internalStatus': 'Departure'}, {'externalStatus': 'Expected time of departure', 'internalStatus': 'Departure'}, {'externalStatus': 'Actual time of departure', 'internalStatus': 'Departure'}, {'externalStatus': 'Expected time of departure', 'internalStatus': 'Departure'}, {'externalStatus': 'Actual time of departure', 'internalStatus': 'Departure'}, {'externalStatus': 'Expected time of departure', 'internalStatus': 'Departure'}, {'externalStatus': 'Actual time of departure', 'internalStatus': 'Departure'}, {'externalStatus': 'Expected time of departure', 'internalStatus': 'Departure'}, {'externalStatus': 'Actual time of departure', 'internalStatus': 'Departure'}, {'externalStatus': 'Actual time of departure', 'internalStatus': 'Departure'}, {'externalStatus': 'Actual time of departure', 'internalStatus': 'Departure'}, {'externalStatus': 'Actual time of departure', 'internalStatus': 'Departure'}, {'externalStatus': 'Import Unloaded from Rail', 'internalStatus': 'Unloaded on Vessel'}, {'externalStatus': 'Import Loaded on Rail', 'internalStatus': 'Loaded on Vessel'}, {'externalStatus': 'Full Transshipment Loaded', 'internalStatus': 'Loaded on Vessel'}, {'externalStatus': 'Full Transshipment Loaded', 'internalStatus': 'Loaded on Vessel'}, {'externalStatus': 'Export Loaded on Vessel', 'internalStatus': 'Loaded on Vessel'}, {'externalStatus': 'Empty to Shipper', 'internalStatus': 'Empty Container Released'}, {'externalStatus': 'Import Unloaded from Rail', 'internalStatus': 'Unloaded on Vessel'}, {'externalStatus': 'Import Loaded on Rail', 'internalStatus': 'Loaded on Vessel'}, {'externalStatus': 'Full Transshipment Loaded', 'internalStatus': 'Loaded on Vessel'}, {'externalStatus': 'Full Transshipment Loaded', 'internalStatus': 'Loaded on Vessel'}, {'externalStatus': 'Export Loaded on Vessel', 'internalStatus': 'Loaded on Vessel'}, {'externalStatus': 'Empty to Shipper', 'internalStatus': 'Empty Container Released'}, {'externalStatus': 'Import Unloaded from Rail', 'internalStatus': 'Unloaded on Vessel'}, {'externalStatus': 'Import Loaded on Rail', 'internalStatus': 'Loaded on Vessel'}, {'externalStatus': 'Full Transshipment Loaded', 'internalStatus': 'Loaded on Vessel'}, {'externalStatus': 'Full Transshipment Loaded', 'internalStatus': 'Loaded on Vessel'}, {'externalStatus': 'Export Loaded on Vessel', 'internalStatus': 'Loaded on Vessel'}, {'externalStatus': 'Empty to Shipper', 'internalStatus': 'Empty Container Released'}, {'externalStatus': 'Import Unloaded from Rail', 'internalStatus': 'Unloaded on Vessel'}, {'externalStatus': 'Import Loaded on Rail', 'internalStatus': 'Loaded on Vessel'}, {'externalStatus': 'Full Transshipment Loaded', 'internalStatus': 'Loaded on Vessel'}, {'externalStatus': 'Full Transshipment Loaded', 'internalStatus': 'Loaded on Vessel'}, {'externalStatus': 'Export Loaded on Vessel', 'internalStatus': 'Loaded on Vessel'}, {'externalStatus': 'Empty to Shipper', 'internalStatus': 'Empty Container Released'}, {'externalStatus': 'Import Unloaded from Rail', 'internalStatus': 'Unloaded on Vessel'}, {'externalStatus': 'Import Loaded on Rail', 'internalStatus': 'Loaded on Vessel'}, {'externalStatus': 'Full Transshipment Loaded', 'internalStatus': 'Loaded on Vessel'}, {'externalStatus': 'Full Transshipment Loaded', 'internalStatus': 'Loaded on Vessel'}, {'externalStatus': 'Export Loaded on Vessel', 'internalStatus': 'Loaded on Vessel'}, {'externalStatus': 'Empty to Shipper', 'internalStatus': 'Empty Container Released'}]\n"
          ]
        }
      ],
      "source": [
        "import pandas as pd\n",
        "import json, requests\n",
        "\n",
        "# Load dataset\n",
        "url = \"https://gist.githubusercontent.com/farhaan-settyl/ecf9c1e7ab7374f18e4400b7a3d2a161/raw/f94652f217eeca83e36dab9d08727caf79ebdecf/dataset.json\"\n",
        "res = requests.get(url)\n",
        "data = json.loads(res.text)\n",
        "print(data)"
      ]
    },
    {
      "cell_type": "code",
      "source": [
        "df = pd.DataFrame(data)\n",
        "df.head()"
      ],
      "metadata": {
        "colab": {
          "base_uri": "https://localhost:8080/",
          "height": 206
        },
        "id": "VT-P3WArsZdl",
        "outputId": "7196fb5a-c765-470a-cfd4-a12b7cb0f6ad"
      },
      "execution_count": 12,
      "outputs": [
        {
          "output_type": "execute_result",
          "data": {
            "text/plain": [
              "                                      externalStatus    internalStatus\n",
              "0                                           PORT OUT          Port Out\n",
              "1                                        TERMINAL IN  Inbound Terminal\n",
              "2                                            PORT IN           Port In\n",
              "3  Vessel departure from first POL (Vessel name :...         Departure\n",
              "4  Vessel arrival at final POD (Vessel name : TIA...           Arrival"
            ],
            "text/html": [
              "\n",
              "  <div id=\"df-cf9c665d-7fd0-4c94-ac65-502cb9938feb\" class=\"colab-df-container\">\n",
              "    <div>\n",
              "<style scoped>\n",
              "    .dataframe tbody tr th:only-of-type {\n",
              "        vertical-align: middle;\n",
              "    }\n",
              "\n",
              "    .dataframe tbody tr th {\n",
              "        vertical-align: top;\n",
              "    }\n",
              "\n",
              "    .dataframe thead th {\n",
              "        text-align: right;\n",
              "    }\n",
              "</style>\n",
              "<table border=\"1\" class=\"dataframe\">\n",
              "  <thead>\n",
              "    <tr style=\"text-align: right;\">\n",
              "      <th></th>\n",
              "      <th>externalStatus</th>\n",
              "      <th>internalStatus</th>\n",
              "    </tr>\n",
              "  </thead>\n",
              "  <tbody>\n",
              "    <tr>\n",
              "      <th>0</th>\n",
              "      <td>PORT OUT</td>\n",
              "      <td>Port Out</td>\n",
              "    </tr>\n",
              "    <tr>\n",
              "      <th>1</th>\n",
              "      <td>TERMINAL IN</td>\n",
              "      <td>Inbound Terminal</td>\n",
              "    </tr>\n",
              "    <tr>\n",
              "      <th>2</th>\n",
              "      <td>PORT IN</td>\n",
              "      <td>Port In</td>\n",
              "    </tr>\n",
              "    <tr>\n",
              "      <th>3</th>\n",
              "      <td>Vessel departure from first POL (Vessel name :...</td>\n",
              "      <td>Departure</td>\n",
              "    </tr>\n",
              "    <tr>\n",
              "      <th>4</th>\n",
              "      <td>Vessel arrival at final POD (Vessel name : TIA...</td>\n",
              "      <td>Arrival</td>\n",
              "    </tr>\n",
              "  </tbody>\n",
              "</table>\n",
              "</div>\n",
              "    <div class=\"colab-df-buttons\">\n",
              "\n",
              "  <div class=\"colab-df-container\">\n",
              "    <button class=\"colab-df-convert\" onclick=\"convertToInteractive('df-cf9c665d-7fd0-4c94-ac65-502cb9938feb')\"\n",
              "            title=\"Convert this dataframe to an interactive table.\"\n",
              "            style=\"display:none;\">\n",
              "\n",
              "  <svg xmlns=\"http://www.w3.org/2000/svg\" height=\"24px\" viewBox=\"0 -960 960 960\">\n",
              "    <path d=\"M120-120v-720h720v720H120Zm60-500h600v-160H180v160Zm220 220h160v-160H400v160Zm0 220h160v-160H400v160ZM180-400h160v-160H180v160Zm440 0h160v-160H620v160ZM180-180h160v-160H180v160Zm440 0h160v-160H620v160Z\"/>\n",
              "  </svg>\n",
              "    </button>\n",
              "\n",
              "  <style>\n",
              "    .colab-df-container {\n",
              "      display:flex;\n",
              "      gap: 12px;\n",
              "    }\n",
              "\n",
              "    .colab-df-convert {\n",
              "      background-color: #E8F0FE;\n",
              "      border: none;\n",
              "      border-radius: 50%;\n",
              "      cursor: pointer;\n",
              "      display: none;\n",
              "      fill: #1967D2;\n",
              "      height: 32px;\n",
              "      padding: 0 0 0 0;\n",
              "      width: 32px;\n",
              "    }\n",
              "\n",
              "    .colab-df-convert:hover {\n",
              "      background-color: #E2EBFA;\n",
              "      box-shadow: 0px 1px 2px rgba(60, 64, 67, 0.3), 0px 1px 3px 1px rgba(60, 64, 67, 0.15);\n",
              "      fill: #174EA6;\n",
              "    }\n",
              "\n",
              "    .colab-df-buttons div {\n",
              "      margin-bottom: 4px;\n",
              "    }\n",
              "\n",
              "    [theme=dark] .colab-df-convert {\n",
              "      background-color: #3B4455;\n",
              "      fill: #D2E3FC;\n",
              "    }\n",
              "\n",
              "    [theme=dark] .colab-df-convert:hover {\n",
              "      background-color: #434B5C;\n",
              "      box-shadow: 0px 1px 3px 1px rgba(0, 0, 0, 0.15);\n",
              "      filter: drop-shadow(0px 1px 2px rgba(0, 0, 0, 0.3));\n",
              "      fill: #FFFFFF;\n",
              "    }\n",
              "  </style>\n",
              "\n",
              "    <script>\n",
              "      const buttonEl =\n",
              "        document.querySelector('#df-cf9c665d-7fd0-4c94-ac65-502cb9938feb button.colab-df-convert');\n",
              "      buttonEl.style.display =\n",
              "        google.colab.kernel.accessAllowed ? 'block' : 'none';\n",
              "\n",
              "      async function convertToInteractive(key) {\n",
              "        const element = document.querySelector('#df-cf9c665d-7fd0-4c94-ac65-502cb9938feb');\n",
              "        const dataTable =\n",
              "          await google.colab.kernel.invokeFunction('convertToInteractive',\n",
              "                                                    [key], {});\n",
              "        if (!dataTable) return;\n",
              "\n",
              "        const docLinkHtml = 'Like what you see? Visit the ' +\n",
              "          '<a target=\"_blank\" href=https://colab.research.google.com/notebooks/data_table.ipynb>data table notebook</a>'\n",
              "          + ' to learn more about interactive tables.';\n",
              "        element.innerHTML = '';\n",
              "        dataTable['output_type'] = 'display_data';\n",
              "        await google.colab.output.renderOutput(dataTable, element);\n",
              "        const docLink = document.createElement('div');\n",
              "        docLink.innerHTML = docLinkHtml;\n",
              "        element.appendChild(docLink);\n",
              "      }\n",
              "    </script>\n",
              "  </div>\n",
              "\n",
              "\n",
              "<div id=\"df-a1c5fcec-9a35-42ff-8f81-822b0f059511\">\n",
              "  <button class=\"colab-df-quickchart\" onclick=\"quickchart('df-a1c5fcec-9a35-42ff-8f81-822b0f059511')\"\n",
              "            title=\"Suggest charts\"\n",
              "            style=\"display:none;\">\n",
              "\n",
              "<svg xmlns=\"http://www.w3.org/2000/svg\" height=\"24px\"viewBox=\"0 0 24 24\"\n",
              "     width=\"24px\">\n",
              "    <g>\n",
              "        <path d=\"M19 3H5c-1.1 0-2 .9-2 2v14c0 1.1.9 2 2 2h14c1.1 0 2-.9 2-2V5c0-1.1-.9-2-2-2zM9 17H7v-7h2v7zm4 0h-2V7h2v10zm4 0h-2v-4h2v4z\"/>\n",
              "    </g>\n",
              "</svg>\n",
              "  </button>\n",
              "\n",
              "<style>\n",
              "  .colab-df-quickchart {\n",
              "      --bg-color: #E8F0FE;\n",
              "      --fill-color: #1967D2;\n",
              "      --hover-bg-color: #E2EBFA;\n",
              "      --hover-fill-color: #174EA6;\n",
              "      --disabled-fill-color: #AAA;\n",
              "      --disabled-bg-color: #DDD;\n",
              "  }\n",
              "\n",
              "  [theme=dark] .colab-df-quickchart {\n",
              "      --bg-color: #3B4455;\n",
              "      --fill-color: #D2E3FC;\n",
              "      --hover-bg-color: #434B5C;\n",
              "      --hover-fill-color: #FFFFFF;\n",
              "      --disabled-bg-color: #3B4455;\n",
              "      --disabled-fill-color: #666;\n",
              "  }\n",
              "\n",
              "  .colab-df-quickchart {\n",
              "    background-color: var(--bg-color);\n",
              "    border: none;\n",
              "    border-radius: 50%;\n",
              "    cursor: pointer;\n",
              "    display: none;\n",
              "    fill: var(--fill-color);\n",
              "    height: 32px;\n",
              "    padding: 0;\n",
              "    width: 32px;\n",
              "  }\n",
              "\n",
              "  .colab-df-quickchart:hover {\n",
              "    background-color: var(--hover-bg-color);\n",
              "    box-shadow: 0 1px 2px rgba(60, 64, 67, 0.3), 0 1px 3px 1px rgba(60, 64, 67, 0.15);\n",
              "    fill: var(--button-hover-fill-color);\n",
              "  }\n",
              "\n",
              "  .colab-df-quickchart-complete:disabled,\n",
              "  .colab-df-quickchart-complete:disabled:hover {\n",
              "    background-color: var(--disabled-bg-color);\n",
              "    fill: var(--disabled-fill-color);\n",
              "    box-shadow: none;\n",
              "  }\n",
              "\n",
              "  .colab-df-spinner {\n",
              "    border: 2px solid var(--fill-color);\n",
              "    border-color: transparent;\n",
              "    border-bottom-color: var(--fill-color);\n",
              "    animation:\n",
              "      spin 1s steps(1) infinite;\n",
              "  }\n",
              "\n",
              "  @keyframes spin {\n",
              "    0% {\n",
              "      border-color: transparent;\n",
              "      border-bottom-color: var(--fill-color);\n",
              "      border-left-color: var(--fill-color);\n",
              "    }\n",
              "    20% {\n",
              "      border-color: transparent;\n",
              "      border-left-color: var(--fill-color);\n",
              "      border-top-color: var(--fill-color);\n",
              "    }\n",
              "    30% {\n",
              "      border-color: transparent;\n",
              "      border-left-color: var(--fill-color);\n",
              "      border-top-color: var(--fill-color);\n",
              "      border-right-color: var(--fill-color);\n",
              "    }\n",
              "    40% {\n",
              "      border-color: transparent;\n",
              "      border-right-color: var(--fill-color);\n",
              "      border-top-color: var(--fill-color);\n",
              "    }\n",
              "    60% {\n",
              "      border-color: transparent;\n",
              "      border-right-color: var(--fill-color);\n",
              "    }\n",
              "    80% {\n",
              "      border-color: transparent;\n",
              "      border-right-color: var(--fill-color);\n",
              "      border-bottom-color: var(--fill-color);\n",
              "    }\n",
              "    90% {\n",
              "      border-color: transparent;\n",
              "      border-bottom-color: var(--fill-color);\n",
              "    }\n",
              "  }\n",
              "</style>\n",
              "\n",
              "  <script>\n",
              "    async function quickchart(key) {\n",
              "      const quickchartButtonEl =\n",
              "        document.querySelector('#' + key + ' button');\n",
              "      quickchartButtonEl.disabled = true;  // To prevent multiple clicks.\n",
              "      quickchartButtonEl.classList.add('colab-df-spinner');\n",
              "      try {\n",
              "        const charts = await google.colab.kernel.invokeFunction(\n",
              "            'suggestCharts', [key], {});\n",
              "      } catch (error) {\n",
              "        console.error('Error during call to suggestCharts:', error);\n",
              "      }\n",
              "      quickchartButtonEl.classList.remove('colab-df-spinner');\n",
              "      quickchartButtonEl.classList.add('colab-df-quickchart-complete');\n",
              "    }\n",
              "    (() => {\n",
              "      let quickchartButtonEl =\n",
              "        document.querySelector('#df-a1c5fcec-9a35-42ff-8f81-822b0f059511 button');\n",
              "      quickchartButtonEl.style.display =\n",
              "        google.colab.kernel.accessAllowed ? 'block' : 'none';\n",
              "    })();\n",
              "  </script>\n",
              "</div>\n",
              "\n",
              "    </div>\n",
              "  </div>\n"
            ],
            "application/vnd.google.colaboratory.intrinsic+json": {
              "type": "dataframe",
              "variable_name": "df",
              "summary": "{\n  \"name\": \"df\",\n  \"rows\": 1222,\n  \"fields\": [\n    {\n      \"column\": \"externalStatus\",\n      \"properties\": {\n        \"dtype\": \"category\",\n        \"num_unique_values\": 108,\n        \"samples\": [\n          \"Import Loaded on Rail\",\n          \"Load on MSC SVEVA / 248E\",\n          \"Vessel arrival at final POD (Vessel name : TIAN FU HE)\"\n        ],\n        \"semantic_type\": \"\",\n        \"description\": \"\"\n      }\n    },\n    {\n      \"column\": \"internalStatus\",\n      \"properties\": {\n        \"dtype\": \"category\",\n        \"num_unique_values\": 15,\n        \"samples\": [\n          \"Off Rail\",\n          \"In-transit\",\n          \"Port Out\"\n        ],\n        \"semantic_type\": \"\",\n        \"description\": \"\"\n      }\n    }\n  ]\n}"
            }
          },
          "metadata": {},
          "execution_count": 12
        }
      ]
    },
    {
      "cell_type": "code",
      "source": [
        "df['internalStatus'].value_counts()\n"
      ],
      "metadata": {
        "colab": {
          "base_uri": "https://localhost:8080/"
        },
        "id": "_sAlYknU_1jq",
        "outputId": "043d8f76-4564-476d-b81f-53084090c7ae"
      },
      "execution_count": 13,
      "outputs": [
        {
          "output_type": "execute_result",
          "data": {
            "text/plain": [
              "internalStatus\n",
              "Loaded on Vessel            331\n",
              "Departure                   287\n",
              "Gate Out                    146\n",
              "Gate In                     143\n",
              "Arrival                      62\n",
              "Empty Return                 47\n",
              "Empty Container Released     47\n",
              "Unloaded on Vessel           37\n",
              "On Rail                      25\n",
              "Off Rail                     25\n",
              "Outbound Terminal            24\n",
              "Port Out                     15\n",
              "Port In                      14\n",
              "In-transit                   10\n",
              "Inbound Terminal              9\n",
              "Name: count, dtype: int64"
            ]
          },
          "metadata": {},
          "execution_count": 13
        }
      ]
    },
    {
      "cell_type": "code",
      "source": [
        "import tensorflow as tf\n",
        "from sklearn.preprocessing import LabelEncoder\n",
        "from tensorflow.keras.preprocessing.text import Tokenizer\n",
        "from tensorflow.keras.preprocessing.sequence import pad_sequences\n",
        "\n",
        "\n",
        "# Data preprocessing\n",
        "df['externalStatus'] = df['externalStatus'].str.lower()\n",
        "\n",
        "# Tokenize text data\n",
        "tokenizer = Tokenizer()\n",
        "tokenizer.fit_on_texts(df['externalStatus'])\n",
        "X = tokenizer.texts_to_sequences(df['externalStatus'])\n",
        "X = pad_sequences(X)\n",
        "\n",
        "# Label encoding: Encode target labels\n",
        "label_encoder = LabelEncoder()\n",
        "y = label_encoder.fit_transform(df['internalStatus'])\n",
        "\n",
        "# Model definition\n",
        "model = tf.keras.Sequential([\n",
        "    tf.keras.layers.Embedding(input_dim=len(tokenizer.word_index)+1, output_dim=128),\n",
        "    tf.keras.layers.GlobalAveragePooling1D(),\n",
        "    tf.keras.layers.Dense(64, activation='relu'),\n",
        "    tf.keras.layers.Dropout(0.5),  # Dropout regularization\n",
        "    tf.keras.layers.Dense(len(label_encoder.classes_), activation='softmax')\n",
        "])\n",
        "\n",
        "# Model compilation\n",
        "model.compile(optimizer='adam', loss='sparse_categorical_crossentropy', metrics=['accuracy'])\n",
        "\n",
        "# Model training\n",
        "model.fit(X, y, epochs=20, batch_size=32, validation_split=0.2)  # Use validation split to monitor overfitting\n",
        "\n"
      ],
      "metadata": {
        "colab": {
          "base_uri": "https://localhost:8080/"
        },
        "id": "PhRZbUcxsiXF",
        "outputId": "3a9b6e91-7c6b-471e-9a28-457659d07d59"
      },
      "execution_count": 14,
      "outputs": [
        {
          "output_type": "stream",
          "name": "stdout",
          "text": [
            "Epoch 1/20\n",
            "31/31 [==============================] - 1s 12ms/step - loss: 2.6198 - accuracy: 0.2712 - val_loss: 2.5033 - val_accuracy: 0.5633\n",
            "Epoch 2/20\n",
            "31/31 [==============================] - 0s 4ms/step - loss: 2.3041 - accuracy: 0.3613 - val_loss: 2.1412 - val_accuracy: 0.5633\n",
            "Epoch 3/20\n",
            "31/31 [==============================] - 0s 5ms/step - loss: 1.9977 - accuracy: 0.3838 - val_loss: 1.9088 - val_accuracy: 0.5510\n",
            "Epoch 4/20\n",
            "31/31 [==============================] - 0s 4ms/step - loss: 1.7347 - accuracy: 0.4831 - val_loss: 1.6098 - val_accuracy: 0.6245\n",
            "Epoch 5/20\n",
            "31/31 [==============================] - 0s 4ms/step - loss: 1.4831 - accuracy: 0.5650 - val_loss: 1.3543 - val_accuracy: 0.6857\n",
            "Epoch 6/20\n",
            "31/31 [==============================] - 0s 4ms/step - loss: 1.2680 - accuracy: 0.6274 - val_loss: 1.1917 - val_accuracy: 0.6857\n",
            "Epoch 7/20\n",
            "31/31 [==============================] - 0s 13ms/step - loss: 1.1174 - accuracy: 0.6735 - val_loss: 1.0672 - val_accuracy: 0.6857\n",
            "Epoch 8/20\n",
            "31/31 [==============================] - 0s 4ms/step - loss: 0.9857 - accuracy: 0.7339 - val_loss: 0.9659 - val_accuracy: 0.7469\n",
            "Epoch 9/20\n",
            "31/31 [==============================] - 0s 5ms/step - loss: 0.8571 - accuracy: 0.7892 - val_loss: 0.8586 - val_accuracy: 0.7469\n",
            "Epoch 10/20\n",
            "31/31 [==============================] - 0s 6ms/step - loss: 0.7499 - accuracy: 0.8158 - val_loss: 0.7526 - val_accuracy: 0.7837\n",
            "Epoch 11/20\n",
            "31/31 [==============================] - 0s 5ms/step - loss: 0.6459 - accuracy: 0.8454 - val_loss: 0.6454 - val_accuracy: 0.7837\n",
            "Epoch 12/20\n",
            "31/31 [==============================] - 0s 6ms/step - loss: 0.5624 - accuracy: 0.8598 - val_loss: 0.5509 - val_accuracy: 0.8286\n",
            "Epoch 13/20\n",
            "31/31 [==============================] - 0s 6ms/step - loss: 0.4878 - accuracy: 0.8700 - val_loss: 0.4804 - val_accuracy: 0.8286\n",
            "Epoch 14/20\n",
            "31/31 [==============================] - 0s 5ms/step - loss: 0.4378 - accuracy: 0.8772 - val_loss: 0.4154 - val_accuracy: 0.8286\n",
            "Epoch 15/20\n",
            "31/31 [==============================] - 0s 5ms/step - loss: 0.3700 - accuracy: 0.8925 - val_loss: 0.3519 - val_accuracy: 0.8776\n",
            "Epoch 16/20\n",
            "31/31 [==============================] - 0s 5ms/step - loss: 0.3448 - accuracy: 0.9069 - val_loss: 0.3109 - val_accuracy: 0.9347\n",
            "Epoch 17/20\n",
            "31/31 [==============================] - 0s 5ms/step - loss: 0.3089 - accuracy: 0.9079 - val_loss: 0.2805 - val_accuracy: 0.9347\n",
            "Epoch 18/20\n",
            "31/31 [==============================] - 0s 6ms/step - loss: 0.2781 - accuracy: 0.9243 - val_loss: 0.2456 - val_accuracy: 0.9347\n",
            "Epoch 19/20\n",
            "31/31 [==============================] - 0s 7ms/step - loss: 0.2523 - accuracy: 0.9406 - val_loss: 0.2170 - val_accuracy: 0.9837\n",
            "Epoch 20/20\n",
            "31/31 [==============================] - 0s 5ms/step - loss: 0.2449 - accuracy: 0.9355 - val_loss: 0.1985 - val_accuracy: 0.9837\n"
          ]
        },
        {
          "output_type": "execute_result",
          "data": {
            "text/plain": [
              "<keras.src.callbacks.History at 0x797317d32e60>"
            ]
          },
          "metadata": {},
          "execution_count": 14
        }
      ]
    },
    {
      "cell_type": "code",
      "source": [
        "from sklearn.metrics import accuracy_score, precision_score, recall_score\n",
        "import numpy as np\n",
        "\n",
        "# Evaluate the model\n",
        "y_pred = model.predict(X)\n",
        "y_pred_classes = np.argmax(y_pred, axis=1)\n",
        "\n",
        "# Calculate metrics\n",
        "accuracy = accuracy_score(y, y_pred_classes)\n",
        "precision = precision_score(y, y_pred_classes, average='weighted')\n",
        "recall = recall_score(y, y_pred_classes, average='weighted')\n",
        "\n",
        "print(\"Accuracy:\", accuracy)\n",
        "print(\"Precision:\", precision)\n",
        "print(\"Recall:\", recall)\n"
      ],
      "metadata": {
        "colab": {
          "base_uri": "https://localhost:8080/"
        },
        "id": "xCH3pmOT3cWW",
        "outputId": "335a8624-4dd7-4d22-ebdf-9868520cda23"
      },
      "execution_count": 16,
      "outputs": [
        {
          "output_type": "stream",
          "name": "stdout",
          "text": [
            "39/39 [==============================] - 0s 3ms/step\n",
            "Accuracy: 0.9819967266775778\n",
            "Precision: 0.9774069718360858\n",
            "Recall: 0.9819967266775778\n"
          ]
        },
        {
          "output_type": "stream",
          "name": "stderr",
          "text": [
            "/usr/local/lib/python3.10/dist-packages/sklearn/metrics/_classification.py:1344: UndefinedMetricWarning: Precision is ill-defined and being set to 0.0 in labels with no predicted samples. Use `zero_division` parameter to control this behavior.\n",
            "  _warn_prf(average, modifier, msg_start, len(result))\n"
          ]
        }
      ]
    },
    {
      "cell_type": "code",
      "source": [
        "# Evaluate model on the entire dataset\n",
        "loss, accuracy = model.evaluate(X, y)\n",
        "\n",
        "print(\"Overall Accuracy:\", accuracy)\n"
      ],
      "metadata": {
        "colab": {
          "base_uri": "https://localhost:8080/"
        },
        "id": "zFtCqa0r-Bji",
        "outputId": "f1736c69-8050-48a6-fe1b-b84f05ef8b0c"
      },
      "execution_count": 17,
      "outputs": [
        {
          "output_type": "stream",
          "name": "stdout",
          "text": [
            "39/39 [==============================] - 0s 4ms/step - loss: 0.1533 - accuracy: 0.9820\n",
            "Overall Accuracy: 0.9819967150688171\n"
          ]
        }
      ]
    },
    {
      "cell_type": "markdown",
      "source": [],
      "metadata": {
        "id": "JeYkwd2c3EfU"
      }
    },
    {
      "cell_type": "code",
      "source": [
        "\n",
        "# Function to preprocess input text and make predictions\n",
        "def predict_internal_status(input_text):\n",
        "    # Tokenize input text\n",
        "    input_sequence = tokenizer.texts_to_sequences([input_text])\n",
        "    input_sequence = pad_sequences(input_sequence, maxlen=X.shape[1])\n",
        "\n",
        "    # Make prediction\n",
        "    predicted_probabilities = model.predict(input_sequence)\n",
        "    predicted_index = np.argmax(predicted_probabilities, axis=1)[0]\n",
        "    predicted_label = label_encoder.classes_[predicted_index]\n",
        "\n",
        "    return predicted_label\n",
        "\n",
        "# Example usage:\n",
        "input_text = input(\"Enter a External Status: \").lower()   #TERMINAL IN\n",
        "predicted_internal_status = predict_internal_status(input_text)\n",
        "print(\"Predicted internal status:\", predicted_internal_status)\n"
      ],
      "metadata": {
        "colab": {
          "base_uri": "https://localhost:8080/"
        },
        "id": "OQkCYMF4-0aq",
        "outputId": "4dcd7773-663e-4b61-c2fc-07e1f6792dc9"
      },
      "execution_count": 18,
      "outputs": [
        {
          "output_type": "stream",
          "name": "stdout",
          "text": [
            "Enter a External Status: TERMINAL IN\n",
            "1/1 [==============================] - 0s 24ms/step\n",
            "Predicted internal status: Gate In\n"
          ]
        }
      ]
    },
    {
      "cell_type": "code",
      "source": [
        "from tensorflow.keras.models import save_model, load_model\n",
        "\n",
        "# Save the model\n",
        "model.save('settyl_model.h5')\n"
      ],
      "metadata": {
        "colab": {
          "base_uri": "https://localhost:8080/"
        },
        "id": "d6MX-5WG6hjj",
        "outputId": "43565931-2b84-4cfe-9fa0-994d905c3270"
      },
      "execution_count": 19,
      "outputs": [
        {
          "output_type": "stream",
          "name": "stderr",
          "text": [
            "/usr/local/lib/python3.10/dist-packages/keras/src/engine/training.py:3103: UserWarning: You are saving your model as an HDF5 file via `model.save()`. This file format is considered legacy. We recommend using instead the native Keras format, e.g. `model.save('my_model.keras')`.\n",
            "  saving_api.save_model(\n"
          ]
        }
      ]
    },
    {
      "cell_type": "code",
      "source": [
        "# Load the model\n",
        "loaded_model = load_model('settyl_model.h5')\n"
      ],
      "metadata": {
        "id": "4tfs55rP7CMJ"
      },
      "execution_count": 20,
      "outputs": []
    },
    {
      "cell_type": "code",
      "source": [
        "import numpy as np\n",
        "# Function to preprocess input text and make predictions\n",
        "def predict_internal_status(input_text):\n",
        "    # Tokenize input text\n",
        "    input_sequence = tokenizer.texts_to_sequences([input_text])\n",
        "    input_sequence = pad_sequences(input_sequence, maxlen=X.shape[1])\n",
        "\n",
        "    # Make prediction\n",
        "    predicted_probabilities = loaded_model.predict(input_sequence)\n",
        "    predicted_index = np.argmax(predicted_probabilities, axis=1)[0]\n",
        "    predicted_label = label_encoder.classes_[predicted_index]\n",
        "\n",
        "    return predicted_label\n",
        "\n",
        "# Example usage:\n",
        "input_text = input(\"Enter a External Status: \").lower()   #Vessel departure from first POL\n",
        "predicted_internal_status = predict_internal_status(input_text)\n",
        "print(\"Predicted internal status:\", predicted_internal_status)\n"
      ],
      "metadata": {
        "colab": {
          "base_uri": "https://localhost:8080/"
        },
        "id": "R-9IX_F17E_Y",
        "outputId": "5f4c1941-6e0e-442c-8e2d-fd3be4c21171"
      },
      "execution_count": 21,
      "outputs": [
        {
          "output_type": "stream",
          "name": "stdout",
          "text": [
            "Enter a External Status: Vessel departure from first POL\n",
            "1/1 [==============================] - 0s 71ms/step\n",
            "Predicted internal status: Departure\n"
          ]
        }
      ]
    },
    {
      "cell_type": "code",
      "source": [
        "from joblib import dump, load\n",
        "\n",
        "dump(tokenizer, \"tokenizer.joblib\")\n",
        "dump(label_encoder, \"label_encoder.joblib\")"
      ],
      "metadata": {
        "colab": {
          "base_uri": "https://localhost:8080/"
        },
        "id": "Z9ueqmjKkHop",
        "outputId": "501d4b92-59be-40f9-dd61-8148f84b13ac"
      },
      "execution_count": 22,
      "outputs": [
        {
          "output_type": "execute_result",
          "data": {
            "text/plain": [
              "['label_encoder.joblib']"
            ]
          },
          "metadata": {},
          "execution_count": 22
        }
      ]
    },
    {
      "cell_type": "code",
      "source": [
        "def predict_internal_status(input_text):\n",
        "    # Load tokenizer and label encoder\n",
        "    tokenizer = load(\"tokenizer.joblib\")\n",
        "    label_encoder = load(\"label_encoder.joblib\")\n",
        "\n",
        "    # Load the model\n",
        "    loaded_model = load_model('settyl_model.h5')\n",
        "\n",
        "\n",
        "    # Tokenize input text\n",
        "    input_sequence = tokenizer.texts_to_sequences([input_text])\n",
        "    input_sequence = pad_sequences(input_sequence, maxlen=X.shape[1])\n",
        "\n",
        "    # Make prediction\n",
        "    predicted_probabilities = loaded_model.predict(input_sequence)\n",
        "    predicted_index = np.argmax(predicted_probabilities, axis=1)[0]\n",
        "    predicted_label = label_encoder.classes_[predicted_index]\n",
        "\n",
        "    return predicted_label"
      ],
      "metadata": {
        "id": "hXFTkLbBkZsr"
      },
      "execution_count": 24,
      "outputs": []
    },
    {
      "cell_type": "code",
      "source": [
        "print(predict_internal_status(\"Terminal out\"))"
      ],
      "metadata": {
        "colab": {
          "base_uri": "https://localhost:8080/"
        },
        "id": "BdY5b1Itkk04",
        "outputId": "e8e348d2-a5a8-43a4-86e3-a4bdc606cc09"
      },
      "execution_count": 25,
      "outputs": [
        {
          "output_type": "stream",
          "name": "stdout",
          "text": [
            "1/1 [==============================] - 0s 110ms/step\n",
            "Port Out\n"
          ]
        }
      ]
    },
    {
      "cell_type": "code",
      "source": [],
      "metadata": {
        "id": "H9dEsJ7MY5JQ"
      },
      "execution_count": null,
      "outputs": []
    },
    {
      "cell_type": "code",
      "source": [
        "!pip install uvicorn fastapi nest_asyncio\n",
        "!pip install pyngrok"
      ],
      "metadata": {
        "id": "G1Y6oxMTY5PF"
      },
      "execution_count": null,
      "outputs": []
    },
    {
      "cell_type": "code",
      "source": [
        "from fastapi import FastAPI\n",
        "import nest_asyncio\n",
        "from pyngrok import ngrok\n",
        "import uvicorn"
      ],
      "metadata": {
        "id": "XpcLrzdLY_ZK"
      },
      "execution_count": 8,
      "outputs": []
    },
    {
      "cell_type": "code",
      "source": [
        "app = FastAPI()\n",
        "\n",
        "@app.get(\"/\")\n",
        "async def read_root():\n",
        "    return {\"message\": \"Hello World\"}\n",
        "\n",
        "ngrok.set_auth_token(\"2ep5qZ8q0L4mdoVVF0HGqHYbyVY_7kFfxewzHQZFDTFPh8RLW\")\n",
        "\n",
        "ngrok_tunnel = ngrok.connect(8000)\n",
        "print('Public URL:', ngrok_tunnel.public_url)\n",
        "\n",
        "nest_asyncio.apply()\n",
        "uvicorn.run(app, port=8000)\n"
      ],
      "metadata": {
        "id": "yTwK9W-fZDtN"
      },
      "execution_count": null,
      "outputs": []
    },
    {
      "cell_type": "code",
      "source": [
        "from fastapi import FastAPI, Query\n",
        "from pydantic import BaseModel\n",
        "import nest_asyncio\n",
        "from pyngrok import ngrok\n",
        "import uvicorn\n",
        "\n",
        "# Define FastAPI app\n",
        "app = FastAPI()\n",
        "\n",
        "# Define input data model\n",
        "class InputData(BaseModel):\n",
        "    user_input: str\n",
        "\n",
        "@app.post(\"/predict’\")\n",
        "async def get_input(data: InputData):\n",
        "    data = data.dict()\n",
        "    input = data['user_input']\n",
        "\n",
        "    # Load tokenizer and label encoder\n",
        "    tokenizer = load(\"tokenizer.joblib\")\n",
        "    label_encoder = load(\"label_encoder.joblib\")\n",
        "\n",
        "    # Load the model\n",
        "    loaded_model = load_model('settyl_model.h5')\n",
        "\n",
        "\n",
        "    # Tokenize input text\n",
        "    input_sequence = tokenizer.texts_to_sequences([input])\n",
        "    input_sequence = pad_sequences(input_sequence, maxlen=X.shape[1])\n",
        "\n",
        "    # Make prediction\n",
        "    predicted_probabilities = loaded_model.predict(input_sequence)\n",
        "    predicted_index = np.argmax(predicted_probabilities, axis=1)[0]\n",
        "    predicted_label = label_encoder.classes_[predicted_index]\n",
        "\n",
        "    return {predicted_label}\n",
        "\n",
        "# Run FastAPI server with ngrok tunneling\n",
        "def run_server():\n",
        "    ngrok.set_auth_token(\"2ep5qZ8q0L4mdoVVF0HGqHYbyVY_7kFfxewzHQZFDTFPh8RLW\")\n",
        "    ngrok_tunnel = ngrok.connect(8000)\n",
        "    print('Public URL:', ngrok_tunnel.public_url)\n",
        "    uvicorn.run(app, host=\"127.0.0.1\", port=8000)\n",
        "\n",
        "if __name__ == \"__main__\":\n",
        "    nest_asyncio.apply()\n",
        "    run_server()\n"
      ],
      "metadata": {
        "colab": {
          "base_uri": "https://localhost:8080/"
        },
        "id": "7gU90YBClZWU",
        "outputId": "8428e3e4-7826-4c66-f597-d755ba96b3c3"
      },
      "execution_count": null,
      "outputs": [
        {
          "output_type": "stream",
          "name": "stderr",
          "text": [
            "ERROR:asyncio:Task exception was never retrieved\n",
            "future: <Task finished name='Task-61' coro=<Server.serve() done, defined at /usr/local/lib/python3.10/dist-packages/uvicorn/server.py:67> exception=KeyboardInterrupt()>\n",
            "Traceback (most recent call last):\n",
            "  File \"/usr/local/lib/python3.10/dist-packages/IPython/core/interactiveshell.py\", line 3553, in run_code\n",
            "    exec(code_obj, self.user_global_ns, self.user_ns)\n",
            "  File \"<ipython-input-35-7168d4b7d48f>\", line 46, in <cell line: 44>\n",
            "    run_server()\n",
            "  File \"<ipython-input-35-7168d4b7d48f>\", line 42, in run_server\n",
            "    uvicorn.run(app, host=\"127.0.0.1\", port=8000)\n",
            "  File \"/usr/local/lib/python3.10/dist-packages/uvicorn/main.py\", line 575, in run\n",
            "    server.run()\n",
            "  File \"/usr/local/lib/python3.10/dist-packages/uvicorn/server.py\", line 65, in run\n",
            "    return asyncio.run(self.serve(sockets=sockets))\n",
            "  File \"/usr/local/lib/python3.10/dist-packages/nest_asyncio.py\", line 30, in run\n",
            "    return loop.run_until_complete(task)\n",
            "  File \"/usr/local/lib/python3.10/dist-packages/nest_asyncio.py\", line 92, in run_until_complete\n",
            "    self._run_once()\n",
            "  File \"/usr/local/lib/python3.10/dist-packages/nest_asyncio.py\", line 133, in _run_once\n",
            "    handle._run()\n",
            "  File \"/usr/lib/python3.10/asyncio/events.py\", line 80, in _run\n",
            "    self._context.run(self._callback, *self._args)\n",
            "  File \"/usr/lib/python3.10/asyncio/tasks.py\", line 315, in __wakeup\n",
            "    self.__step()\n",
            "  File \"/usr/lib/python3.10/asyncio/tasks.py\", line 232, in __step\n",
            "    result = coro.send(None)\n",
            "  File \"/usr/local/lib/python3.10/dist-packages/uvicorn/server.py\", line 68, in serve\n",
            "    with self.capture_signals():\n",
            "  File \"/usr/lib/python3.10/contextlib.py\", line 142, in __exit__\n",
            "    next(self.gen)\n",
            "  File \"/usr/local/lib/python3.10/dist-packages/uvicorn/server.py\", line 328, in capture_signals\n",
            "    signal.raise_signal(captured_signal)\n",
            "KeyboardInterrupt\n"
          ]
        },
        {
          "output_type": "stream",
          "name": "stdout",
          "text": [
            "Public URL: https://a9a7-34-75-205-197.ngrok-free.app\n"
          ]
        },
        {
          "output_type": "stream",
          "name": "stderr",
          "text": [
            "INFO:     Started server process [166]\n",
            "INFO:     Waiting for application startup.\n",
            "INFO:     Application startup complete.\n",
            "INFO:     Uvicorn running on http://127.0.0.1:8000 (Press CTRL+C to quit)\n"
          ]
        },
        {
          "output_type": "stream",
          "name": "stdout",
          "text": [
            "INFO:     2409:408d:4e03:fc9a:30b1:5afc:23b4:9d34:0 - \"GET / HTTP/1.1\" 404 Not Found\n",
            "INFO:     2409:408d:4e03:fc9a:30b1:5afc:23b4:9d34:0 - \"GET /favicon.ico HTTP/1.1\" 404 Not Found\n",
            "INFO:     2409:408d:4e03:fc9a:30b1:5afc:23b4:9d34:0 - \"GET /predict HTTP/1.1\" 404 Not Found\n",
            "INFO:     2409:408d:4e03:fc9a:30b1:5afc:23b4:9d34:0 - \"GET /docs HTTP/1.1\" 200 OK\n",
            "INFO:     2409:408d:4e03:fc9a:30b1:5afc:23b4:9d34:0 - \"GET /openapi.json HTTP/1.1\" 200 OK\n"
          ]
        },
        {
          "output_type": "stream",
          "name": "stderr",
          "text": [
            "WARNING:tensorflow:5 out of the last 83 calls to <function Model.make_predict_function.<locals>.predict_function at 0x797314ddd5a0> triggered tf.function retracing. Tracing is expensive and the excessive number of tracings could be due to (1) creating @tf.function repeatedly in a loop, (2) passing tensors with different shapes, (3) passing Python objects instead of tensors. For (1), please define your @tf.function outside of the loop. For (2), @tf.function has reduce_retracing=True option that can avoid unnecessary retracing. For (3), please refer to https://www.tensorflow.org/guide/function#controlling_retracing and https://www.tensorflow.org/api_docs/python/tf/function for  more details.\n"
          ]
        },
        {
          "output_type": "stream",
          "name": "stdout",
          "text": [
            "1/1 [==============================] - 0s 76ms/step\n",
            "INFO:     2409:408d:4e03:fc9a:30b1:5afc:23b4:9d34:0 - \"POST /predict%E2%80%99 HTTP/1.1\" 200 OK\n"
          ]
        }
      ]
    }
  ]
}